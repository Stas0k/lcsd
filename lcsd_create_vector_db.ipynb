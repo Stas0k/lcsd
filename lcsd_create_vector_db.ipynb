{
 "cells": [
  {
   "cell_type": "markdown",
   "metadata": {},
   "source": [
    "# <span style=\"color: #4daafc\">Legal Case Similarity Detection - Create Dense Vector DB</span>\n",
    "- [Environment](#environment)\n",
    "- [Load Data](#load-data)\n",
    "- [Estimate Number of Tokens](#estimate-number-of-tokens)\n",
    "- [Create Embeddings and Insert into Vector DB](#create-embeddings-and-insert-into-vector-db)\n",
    "- [Save Vector Store](#save-vector-store)"
   ]
  },
  {
   "cell_type": "markdown",
   "metadata": {},
   "source": [
    "# Environment"
   ]
  },
  {
   "cell_type": "markdown",
   "metadata": {},
   "source": [
    "### Import python packages"
   ]
  },
  {
   "cell_type": "code",
   "execution_count": 1,
   "metadata": {},
   "outputs": [],
   "source": [
    "from utils.file_utils import load_file\n",
    "from utils.df import df_shape, concat_df_cols\n",
    "from langchain_community.document_loaders import DataFrameLoader\n",
    "import tiktoken\n",
    "import numpy as np\n",
    "from langchain_ollama import OllamaEmbeddings\n",
    "import faiss\n",
    "from langchain_community.vectorstores import FAISS \n",
    "from langchain_community.docstore.in_memory import InMemoryDocstore"
   ]
  },
  {
   "cell_type": "markdown",
   "metadata": {},
   "source": [
    "### Global variables"
   ]
  },
  {
   "cell_type": "code",
   "execution_count": 2,
   "metadata": {},
   "outputs": [],
   "source": [
    "# Ollama base URL\n",
    "base_url = \"http://localhost:11434\""
   ]
  },
  {
   "cell_type": "markdown",
   "metadata": {},
   "source": [
    "# Load Data"
   ]
  },
  {
   "cell_type": "code",
   "execution_count": 3,
   "metadata": {},
   "outputs": [
    {
     "name": "stdout",
     "output_type": "stream",
     "text": [
      "Successfully loaded DataFrame from data/sum_trans_w_refs_sparse_vec_data_ar_ap_100.xlsx\n"
     ]
    }
   ],
   "source": [
    "f_path = 'data/sum_trans_w_refs_sparse_vec_data_ar_ap_100.xlsx'\n",
    "df = load_file(file_name=f_path)"
   ]
  },
  {
   "cell_type": "code",
   "execution_count": 4,
   "metadata": {},
   "outputs": [
    {
     "name": "stdout",
     "output_type": "stream",
     "text": [
      "Data shape: 100 rows x 505 columns\n"
     ]
    },
    {
     "data": {
      "text/html": [
       "<div>\n",
       "<style scoped>\n",
       "    .dataframe tbody tr th:only-of-type {\n",
       "        vertical-align: middle;\n",
       "    }\n",
       "\n",
       "    .dataframe tbody tr th {\n",
       "        vertical-align: top;\n",
       "    }\n",
       "\n",
       "    .dataframe thead th {\n",
       "        text-align: right;\n",
       "    }\n",
       "</style>\n",
       "<table border=\"1\" class=\"dataframe\">\n",
       "  <thead>\n",
       "    <tr style=\"text-align: right;\">\n",
       "      <th></th>\n",
       "      <th>case_number</th>\n",
       "      <th>procedure_name</th>\n",
       "      <th>case_date</th>\n",
       "      <th>case_link</th>\n",
       "      <th>document_body</th>\n",
       "      <th>document_body_eng_sum</th>\n",
       "      <th>document_body_english_1</th>\n",
       "      <th>document_body_english_2</th>\n",
       "      <th>legal_refs</th>\n",
       "      <th>legal_refs_sparse_vec</th>\n",
       "      <th>...</th>\n",
       "      <th>ת/66</th>\n",
       "      <th>ת/67</th>\n",
       "      <th>ת/67א</th>\n",
       "      <th>ת/68</th>\n",
       "      <th>ת/72</th>\n",
       "      <th>ת/82</th>\n",
       "      <th>ת/85</th>\n",
       "      <th>ת/85א</th>\n",
       "      <th>ת/89</th>\n",
       "      <th>ת/92</th>\n",
       "    </tr>\n",
       "  </thead>\n",
       "  <tbody>\n",
       "    <tr>\n",
       "      <th>0</th>\n",
       "      <td>1108/97</td>\n",
       "      <td>ע\"א 1108/97 מרחיב אביב נ. מדינת ישראל</td>\n",
       "      <td>1997-05-11</td>\n",
       "      <td>https://supremedecisions.court.gov.il/Verdicts...</td>\n",
       "      <td>בבית המשפט העליון בש\"פ 97 / 1108 בפני: כבוד הר...</td>\n",
       "      <td>1. Case Number: 97/1108\\n\\n2. Case Type: Admin...</td>\n",
       "      <td>In the Supreme Court of Israel Case No. 97/110...</td>\n",
       "      <td>NaN</td>\n",
       "      <td>[]</td>\n",
       "      <td>[0 0 0 0 0 0 0 0 0 0 0 0 0 0 0 0 0 0 0 0 0 0 0...</td>\n",
       "      <td>...</td>\n",
       "      <td>0</td>\n",
       "      <td>0</td>\n",
       "      <td>0</td>\n",
       "      <td>0</td>\n",
       "      <td>0</td>\n",
       "      <td>0</td>\n",
       "      <td>0</td>\n",
       "      <td>0</td>\n",
       "      <td>0</td>\n",
       "      <td>0</td>\n",
       "    </tr>\n",
       "    <tr>\n",
       "      <th>1</th>\n",
       "      <td>4477/00</td>\n",
       "      <td>ע\"א 4477/00 לודמילה וורוביוב נ. היועצ המשפטי ל...</td>\n",
       "      <td>2000-07-06</td>\n",
       "      <td>https://supremedecisions.court.gov.il/Verdicts...</td>\n",
       "      <td>בבית המשפט העליון בה\"נ 4477/00 בפני כבוד נשיא ...</td>\n",
       "      <td>\\nCase Number: HCJ 4477/00\\n\\nCase Type: Admin...</td>\n",
       "      <td>In the Supreme Court of Israel, HCJ 4477/00 Be...</td>\n",
       "      <td>NaN</td>\n",
       "      <td>['1(א)', '4477/00']</td>\n",
       "      <td>[0 0 0 0 0 1 0 0 0 0 0 0 0 0 0 0 0 0 0 0 0 0 0...</td>\n",
       "      <td>...</td>\n",
       "      <td>0</td>\n",
       "      <td>0</td>\n",
       "      <td>0</td>\n",
       "      <td>0</td>\n",
       "      <td>0</td>\n",
       "      <td>0</td>\n",
       "      <td>0</td>\n",
       "      <td>0</td>\n",
       "      <td>0</td>\n",
       "      <td>0</td>\n",
       "    </tr>\n",
       "    <tr>\n",
       "      <th>2</th>\n",
       "      <td>1890/16</td>\n",
       "      <td>ע\"פ 1890/16</td>\n",
       "      <td>2017-03-09</td>\n",
       "      <td>https://supremedecisions.court.gov.il/Verdicts...</td>\n",
       "      <td>פסק דין בתיק ע\"פ 1890/16 בבית המשפט העליון בשב...</td>\n",
       "      <td>1. Case Number: 1890/16\\n\\n2. Case Type: Crimi...</td>\n",
       "      <td>In this case, the Hebrew text is a translation...</td>\n",
       "      <td>NaN</td>\n",
       "      <td>['9816/09', '1890/16', '345(א)(1)', '345(ב)(1)...</td>\n",
       "      <td>[0 0 0 0 0 0 0 0 0 0 0 0 0 0 0 0 0 0 0 0 0 0 0...</td>\n",
       "      <td>...</td>\n",
       "      <td>0</td>\n",
       "      <td>0</td>\n",
       "      <td>0</td>\n",
       "      <td>0</td>\n",
       "      <td>0</td>\n",
       "      <td>0</td>\n",
       "      <td>0</td>\n",
       "      <td>0</td>\n",
       "      <td>0</td>\n",
       "      <td>0</td>\n",
       "    </tr>\n",
       "    <tr>\n",
       "      <th>3</th>\n",
       "      <td>7176/04</td>\n",
       "      <td>ע\"פ 7176/04 ירונ תלמי נ. מדינת ישראל</td>\n",
       "      <td>2006-02-02</td>\n",
       "      <td>https://supremedecisions.court.gov.il/Verdicts...</td>\n",
       "      <td>פסק-דין בתיק ע\"פ 7176/04 בבית המשפט העליון בשב...</td>\n",
       "      <td>Case Number: T.P. 2328/01\\n\\nCase Type: Crimin...</td>\n",
       "      <td>In the case of Appellant Yaron Telmi v. State ...</td>\n",
       "      <td>NaN</td>\n",
       "      <td>['61(א)(4)', '7(א)', '40075/04', '46', '185/87...</td>\n",
       "      <td>[0 0 0 0 0 0 0 0 0 0 0 0 0 0 0 0 0 0 0 0 0 0 0...</td>\n",
       "      <td>...</td>\n",
       "      <td>0</td>\n",
       "      <td>0</td>\n",
       "      <td>0</td>\n",
       "      <td>0</td>\n",
       "      <td>0</td>\n",
       "      <td>0</td>\n",
       "      <td>0</td>\n",
       "      <td>0</td>\n",
       "      <td>0</td>\n",
       "      <td>0</td>\n",
       "    </tr>\n",
       "    <tr>\n",
       "      <th>4</th>\n",
       "      <td>3766/12</td>\n",
       "      <td>ע\"א 3766/12</td>\n",
       "      <td>2012-06-17</td>\n",
       "      <td>https://supremedecisions.court.gov.il/Verdicts...</td>\n",
       "      <td>החלטה בתיק ע\"א 3766/12 בבית המשפט העליון בירוש...</td>\n",
       "      <td>1. Case Number: A3766/12\\n\\n2. Case Type: Civi...</td>\n",
       "      <td>The decision in Case A3766/12 at the Supreme C...</td>\n",
       "      <td>NaN</td>\n",
       "      <td>['1113/97', '3766/12', '471ג(ד)', '8467/06', '...</td>\n",
       "      <td>[0 0 0 0 0 0 0 0 0 0 0 0 0 0 0 0 0 0 0 0 0 0 0...</td>\n",
       "      <td>...</td>\n",
       "      <td>0</td>\n",
       "      <td>0</td>\n",
       "      <td>0</td>\n",
       "      <td>0</td>\n",
       "      <td>0</td>\n",
       "      <td>0</td>\n",
       "      <td>0</td>\n",
       "      <td>0</td>\n",
       "      <td>0</td>\n",
       "      <td>0</td>\n",
       "    </tr>\n",
       "    <tr>\n",
       "      <th>5</th>\n",
       "      <td>8178/12</td>\n",
       "      <td>ע\"א 8178/12 עו\"ד צבי סלנט נ. יונתנ גוטליב</td>\n",
       "      <td>2014-11-12</td>\n",
       "      <td>https://supremedecisions.court.gov.il/Verdicts...</td>\n",
       "      <td>החלטה בתיק ע\"א 8178/12 בבית המשפט העליון בשבתו...</td>\n",
       "      <td>1. Case Number: Appeal No. 8178/12\\n\\n2. Case ...</td>\n",
       "      <td>In the case of Appeal No. 8178/12 at the Supre...</td>\n",
       "      <td>NaN</td>\n",
       "      <td>['8178/12', '7998/12']</td>\n",
       "      <td>[0 0 0 0 0 0 0 0 0 0 0 0 0 0 0 0 0 0 0 0 0 0 0...</td>\n",
       "      <td>...</td>\n",
       "      <td>0</td>\n",
       "      <td>0</td>\n",
       "      <td>0</td>\n",
       "      <td>0</td>\n",
       "      <td>0</td>\n",
       "      <td>0</td>\n",
       "      <td>0</td>\n",
       "      <td>0</td>\n",
       "      <td>0</td>\n",
       "      <td>0</td>\n",
       "    </tr>\n",
       "    <tr>\n",
       "      <th>6</th>\n",
       "      <td>3015/09</td>\n",
       "      <td>ע\"פ 3015/09 מדינת ישראל נ. פואד קדיח</td>\n",
       "      <td>2010-07-20</td>\n",
       "      <td>https://supremedecisions.court.gov.il/Verdicts...</td>\n",
       "      <td>פסק דין בתיק ע\"פ 3015/09 בבית המשפט העליון בשב...</td>\n",
       "      <td>1. Case Number: Criminal Appeal No. 3015/09, C...</td>\n",
       "      <td>The State of Israel appeals the sentence issue...</td>\n",
       "      <td>NaN</td>\n",
       "      <td>['3', '1242/97', '9097/05', '499(א)(1)', '3015...</td>\n",
       "      <td>[0 0 0 0 0 0 0 0 0 0 0 0 0 0 0 0 0 0 0 0 0 0 0...</td>\n",
       "      <td>...</td>\n",
       "      <td>0</td>\n",
       "      <td>0</td>\n",
       "      <td>0</td>\n",
       "      <td>0</td>\n",
       "      <td>0</td>\n",
       "      <td>0</td>\n",
       "      <td>0</td>\n",
       "      <td>0</td>\n",
       "      <td>0</td>\n",
       "      <td>0</td>\n",
       "    </tr>\n",
       "    <tr>\n",
       "      <th>7</th>\n",
       "      <td>4272/05</td>\n",
       "      <td>ע\"פ 4272/05 אמיר חג'וג' נ. מדינת ישראל</td>\n",
       "      <td>2006-01-04</td>\n",
       "      <td>https://supremedecisions.court.gov.il/Verdicts...</td>\n",
       "      <td>פסק-דין בתיק ע\"פ 4272/05 בבית המשפט העליון בשב...</td>\n",
       "      <td>1. Case Number: Appeal No. 4272/05\\n\\n2. Case ...</td>\n",
       "      <td>In the case of Appeal No. 4272/05 at the Supre...</td>\n",
       "      <td>NaN</td>\n",
       "      <td>['3121/04', '4272/05']</td>\n",
       "      <td>[0 0 0 0 0 0 0 0 0 0 0 0 0 0 0 0 0 0 0 0 0 0 0...</td>\n",
       "      <td>...</td>\n",
       "      <td>0</td>\n",
       "      <td>0</td>\n",
       "      <td>0</td>\n",
       "      <td>0</td>\n",
       "      <td>0</td>\n",
       "      <td>0</td>\n",
       "      <td>0</td>\n",
       "      <td>0</td>\n",
       "      <td>0</td>\n",
       "      <td>0</td>\n",
       "    </tr>\n",
       "    <tr>\n",
       "      <th>8</th>\n",
       "      <td>10467/08</td>\n",
       "      <td>ע\"א 10467/08 עומר חג'אזי נ. אדיב עיסא דיאב</td>\n",
       "      <td>2010-11-03</td>\n",
       "      <td>https://supremedecisions.court.gov.il/Verdicts...</td>\n",
       "      <td>פסק דין בתיק ע\"א 10467/08 בבית המשפט העליון בש...</td>\n",
       "      <td>Case Number: Appeal No. 10467/08\\n\\nCase Type:...</td>\n",
       "      <td>The case of Appeal No. 10467/08 at the Supreme...</td>\n",
       "      <td>he registered a cautionary note or completed ...</td>\n",
       "      <td>['9', '2643/97', '380/88', '2275/90', '534/06'...</td>\n",
       "      <td>[0 0 0 0 0 0 0 0 0 0 0 0 0 0 0 0 0 0 1 0 0 0 0...</td>\n",
       "      <td>...</td>\n",
       "      <td>0</td>\n",
       "      <td>0</td>\n",
       "      <td>0</td>\n",
       "      <td>0</td>\n",
       "      <td>0</td>\n",
       "      <td>0</td>\n",
       "      <td>0</td>\n",
       "      <td>0</td>\n",
       "      <td>0</td>\n",
       "      <td>0</td>\n",
       "    </tr>\n",
       "    <tr>\n",
       "      <th>9</th>\n",
       "      <td>3330/11</td>\n",
       "      <td>ע\"א 3330/11 אגד אגודה שיתופית לתחבורה בישראל ב...</td>\n",
       "      <td>2011-11-17</td>\n",
       "      <td>https://supremedecisions.court.gov.il/Verdicts...</td>\n",
       "      <td>פסק דין בתיק ע\"א 3330/11 בבית המשפט העליון בשב...</td>\n",
       "      <td>1. Case Number: Appeal No. 3330/11\\n\\n2. Case ...</td>\n",
       "      <td>In the case of Appeal No. 3330/11 at the Supre...</td>\n",
       "      <td>NaN</td>\n",
       "      <td>['329/08', '6ב', '3330/11', '81', '4ג', '79א']</td>\n",
       "      <td>[0 0 0 0 0 0 0 0 0 0 0 0 0 0 0 0 0 0 0 0 0 0 0...</td>\n",
       "      <td>...</td>\n",
       "      <td>0</td>\n",
       "      <td>0</td>\n",
       "      <td>0</td>\n",
       "      <td>0</td>\n",
       "      <td>0</td>\n",
       "      <td>0</td>\n",
       "      <td>0</td>\n",
       "      <td>0</td>\n",
       "      <td>0</td>\n",
       "      <td>0</td>\n",
       "    </tr>\n",
       "  </tbody>\n",
       "</table>\n",
       "<p>10 rows × 505 columns</p>\n",
       "</div>"
      ],
      "text/plain": [
       "  case_number                                     procedure_name   case_date  \\\n",
       "0     1108/97              ע\"א 1108/97 מרחיב אביב נ. מדינת ישראל  1997-05-11   \n",
       "1     4477/00  ע\"א 4477/00 לודמילה וורוביוב נ. היועצ המשפטי ל...  2000-07-06   \n",
       "2     1890/16                                        ע\"פ 1890/16  2017-03-09   \n",
       "3     7176/04               ע\"פ 7176/04 ירונ תלמי נ. מדינת ישראל  2006-02-02   \n",
       "4     3766/12                                        ע\"א 3766/12  2012-06-17   \n",
       "5     8178/12          ע\"א 8178/12 עו\"ד צבי סלנט נ. יונתנ גוטליב  2014-11-12   \n",
       "6     3015/09               ע\"פ 3015/09 מדינת ישראל נ. פואד קדיח  2010-07-20   \n",
       "7     4272/05             ע\"פ 4272/05 אמיר חג'וג' נ. מדינת ישראל  2006-01-04   \n",
       "8    10467/08         ע\"א 10467/08 עומר חג'אזי נ. אדיב עיסא דיאב  2010-11-03   \n",
       "9     3330/11  ע\"א 3330/11 אגד אגודה שיתופית לתחבורה בישראל ב...  2011-11-17   \n",
       "\n",
       "                                           case_link  \\\n",
       "0  https://supremedecisions.court.gov.il/Verdicts...   \n",
       "1  https://supremedecisions.court.gov.il/Verdicts...   \n",
       "2  https://supremedecisions.court.gov.il/Verdicts...   \n",
       "3  https://supremedecisions.court.gov.il/Verdicts...   \n",
       "4  https://supremedecisions.court.gov.il/Verdicts...   \n",
       "5  https://supremedecisions.court.gov.il/Verdicts...   \n",
       "6  https://supremedecisions.court.gov.il/Verdicts...   \n",
       "7  https://supremedecisions.court.gov.il/Verdicts...   \n",
       "8  https://supremedecisions.court.gov.il/Verdicts...   \n",
       "9  https://supremedecisions.court.gov.il/Verdicts...   \n",
       "\n",
       "                                       document_body  \\\n",
       "0  בבית המשפט העליון בש\"פ 97 / 1108 בפני: כבוד הר...   \n",
       "1  בבית המשפט העליון בה\"נ 4477/00 בפני כבוד נשיא ...   \n",
       "2  פסק דין בתיק ע\"פ 1890/16 בבית המשפט העליון בשב...   \n",
       "3  פסק-דין בתיק ע\"פ 7176/04 בבית המשפט העליון בשב...   \n",
       "4  החלטה בתיק ע\"א 3766/12 בבית המשפט העליון בירוש...   \n",
       "5  החלטה בתיק ע\"א 8178/12 בבית המשפט העליון בשבתו...   \n",
       "6  פסק דין בתיק ע\"פ 3015/09 בבית המשפט העליון בשב...   \n",
       "7  פסק-דין בתיק ע\"פ 4272/05 בבית המשפט העליון בשב...   \n",
       "8  פסק דין בתיק ע\"א 10467/08 בבית המשפט העליון בש...   \n",
       "9  פסק דין בתיק ע\"א 3330/11 בבית המשפט העליון בשב...   \n",
       "\n",
       "                               document_body_eng_sum  \\\n",
       "0  1. Case Number: 97/1108\\n\\n2. Case Type: Admin...   \n",
       "1  \\nCase Number: HCJ 4477/00\\n\\nCase Type: Admin...   \n",
       "2  1. Case Number: 1890/16\\n\\n2. Case Type: Crimi...   \n",
       "3  Case Number: T.P. 2328/01\\n\\nCase Type: Crimin...   \n",
       "4  1. Case Number: A3766/12\\n\\n2. Case Type: Civi...   \n",
       "5  1. Case Number: Appeal No. 8178/12\\n\\n2. Case ...   \n",
       "6  1. Case Number: Criminal Appeal No. 3015/09, C...   \n",
       "7  1. Case Number: Appeal No. 4272/05\\n\\n2. Case ...   \n",
       "8  Case Number: Appeal No. 10467/08\\n\\nCase Type:...   \n",
       "9  1. Case Number: Appeal No. 3330/11\\n\\n2. Case ...   \n",
       "\n",
       "                             document_body_english_1  \\\n",
       "0  In the Supreme Court of Israel Case No. 97/110...   \n",
       "1  In the Supreme Court of Israel, HCJ 4477/00 Be...   \n",
       "2  In this case, the Hebrew text is a translation...   \n",
       "3  In the case of Appellant Yaron Telmi v. State ...   \n",
       "4  The decision in Case A3766/12 at the Supreme C...   \n",
       "5  In the case of Appeal No. 8178/12 at the Supre...   \n",
       "6  The State of Israel appeals the sentence issue...   \n",
       "7  In the case of Appeal No. 4272/05 at the Supre...   \n",
       "8  The case of Appeal No. 10467/08 at the Supreme...   \n",
       "9  In the case of Appeal No. 3330/11 at the Supre...   \n",
       "\n",
       "                             document_body_english_2  \\\n",
       "0                                                NaN   \n",
       "1                                                NaN   \n",
       "2                                                NaN   \n",
       "3                                                NaN   \n",
       "4                                                NaN   \n",
       "5                                                NaN   \n",
       "6                                                NaN   \n",
       "7                                                NaN   \n",
       "8   he registered a cautionary note or completed ...   \n",
       "9                                                NaN   \n",
       "\n",
       "                                          legal_refs  \\\n",
       "0                                                 []   \n",
       "1                                ['1(א)', '4477/00']   \n",
       "2  ['9816/09', '1890/16', '345(א)(1)', '345(ב)(1)...   \n",
       "3  ['61(א)(4)', '7(א)', '40075/04', '46', '185/87...   \n",
       "4  ['1113/97', '3766/12', '471ג(ד)', '8467/06', '...   \n",
       "5                             ['8178/12', '7998/12']   \n",
       "6  ['3', '1242/97', '9097/05', '499(א)(1)', '3015...   \n",
       "7                             ['3121/04', '4272/05']   \n",
       "8  ['9', '2643/97', '380/88', '2275/90', '534/06'...   \n",
       "9     ['329/08', '6ב', '3330/11', '81', '4ג', '79א']   \n",
       "\n",
       "                               legal_refs_sparse_vec  ...  ת/66  ת/67  ת/67א  \\\n",
       "0  [0 0 0 0 0 0 0 0 0 0 0 0 0 0 0 0 0 0 0 0 0 0 0...  ...     0     0      0   \n",
       "1  [0 0 0 0 0 1 0 0 0 0 0 0 0 0 0 0 0 0 0 0 0 0 0...  ...     0     0      0   \n",
       "2  [0 0 0 0 0 0 0 0 0 0 0 0 0 0 0 0 0 0 0 0 0 0 0...  ...     0     0      0   \n",
       "3  [0 0 0 0 0 0 0 0 0 0 0 0 0 0 0 0 0 0 0 0 0 0 0...  ...     0     0      0   \n",
       "4  [0 0 0 0 0 0 0 0 0 0 0 0 0 0 0 0 0 0 0 0 0 0 0...  ...     0     0      0   \n",
       "5  [0 0 0 0 0 0 0 0 0 0 0 0 0 0 0 0 0 0 0 0 0 0 0...  ...     0     0      0   \n",
       "6  [0 0 0 0 0 0 0 0 0 0 0 0 0 0 0 0 0 0 0 0 0 0 0...  ...     0     0      0   \n",
       "7  [0 0 0 0 0 0 0 0 0 0 0 0 0 0 0 0 0 0 0 0 0 0 0...  ...     0     0      0   \n",
       "8  [0 0 0 0 0 0 0 0 0 0 0 0 0 0 0 0 0 0 1 0 0 0 0...  ...     0     0      0   \n",
       "9  [0 0 0 0 0 0 0 0 0 0 0 0 0 0 0 0 0 0 0 0 0 0 0...  ...     0     0      0   \n",
       "\n",
       "   ת/68  ת/72  ת/82  ת/85  ת/85א  ת/89  ת/92  \n",
       "0     0     0     0     0      0     0     0  \n",
       "1     0     0     0     0      0     0     0  \n",
       "2     0     0     0     0      0     0     0  \n",
       "3     0     0     0     0      0     0     0  \n",
       "4     0     0     0     0      0     0     0  \n",
       "5     0     0     0     0      0     0     0  \n",
       "6     0     0     0     0      0     0     0  \n",
       "7     0     0     0     0      0     0     0  \n",
       "8     0     0     0     0      0     0     0  \n",
       "9     0     0     0     0      0     0     0  \n",
       "\n",
       "[10 rows x 505 columns]"
      ]
     },
     "metadata": {},
     "output_type": "display_data"
    }
   ],
   "source": [
    "df_shape(df)\n",
    "display(df.head(10))"
   ]
  },
  {
   "cell_type": "markdown",
   "metadata": {},
   "source": [
    "### Drop unnecessary columns"
   ]
  },
  {
   "cell_type": "code",
   "execution_count": 5,
   "metadata": {},
   "outputs": [],
   "source": [
    "# drop one-hot encoded columns \n",
    "col_index = df.columns.get_loc('legal_refs_sparse_vec')  # find index of col 'legal_refs_sparse_vec'\n",
    "df_legal_short = df.iloc[:, :col_index + 1]"
   ]
  },
  {
   "cell_type": "markdown",
   "metadata": {},
   "source": [
    "### Concat previously splitted columns"
   ]
  },
  {
   "cell_type": "code",
   "execution_count": 6,
   "metadata": {},
   "outputs": [],
   "source": [
    "# concat splitted columns\n",
    "df_legal_short = concat_df_cols(df_legal_short, col_prefix='document_body_english')"
   ]
  },
  {
   "cell_type": "code",
   "execution_count": 7,
   "metadata": {},
   "outputs": [
    {
     "data": {
      "text/html": [
       "<div>\n",
       "<style scoped>\n",
       "    .dataframe tbody tr th:only-of-type {\n",
       "        vertical-align: middle;\n",
       "    }\n",
       "\n",
       "    .dataframe tbody tr th {\n",
       "        vertical-align: top;\n",
       "    }\n",
       "\n",
       "    .dataframe thead th {\n",
       "        text-align: right;\n",
       "    }\n",
       "</style>\n",
       "<table border=\"1\" class=\"dataframe\">\n",
       "  <thead>\n",
       "    <tr style=\"text-align: right;\">\n",
       "      <th></th>\n",
       "      <th>case_number</th>\n",
       "      <th>procedure_name</th>\n",
       "      <th>case_date</th>\n",
       "      <th>case_link</th>\n",
       "      <th>document_body</th>\n",
       "      <th>document_body_eng_sum</th>\n",
       "      <th>document_body_english</th>\n",
       "      <th>legal_refs</th>\n",
       "      <th>legal_refs_sparse_vec</th>\n",
       "    </tr>\n",
       "  </thead>\n",
       "  <tbody>\n",
       "    <tr>\n",
       "      <th>0</th>\n",
       "      <td>1108/97</td>\n",
       "      <td>ע\"א 1108/97 מרחיב אביב נ. מדינת ישראל</td>\n",
       "      <td>1997-05-11</td>\n",
       "      <td>https://supremedecisions.court.gov.il/Verdicts...</td>\n",
       "      <td>בבית המשפט העליון בש\"פ 97 / 1108 בפני: כבוד הר...</td>\n",
       "      <td>1. Case Number: 97/1108\\n\\n2. Case Type: Admin...</td>\n",
       "      <td>In the Supreme Court of Israel Case No. 97/110...</td>\n",
       "      <td>[]</td>\n",
       "      <td>[0 0 0 0 0 0 0 0 0 0 0 0 0 0 0 0 0 0 0 0 0 0 0...</td>\n",
       "    </tr>\n",
       "    <tr>\n",
       "      <th>1</th>\n",
       "      <td>4477/00</td>\n",
       "      <td>ע\"א 4477/00 לודמילה וורוביוב נ. היועצ המשפטי ל...</td>\n",
       "      <td>2000-07-06</td>\n",
       "      <td>https://supremedecisions.court.gov.il/Verdicts...</td>\n",
       "      <td>בבית המשפט העליון בה\"נ 4477/00 בפני כבוד נשיא ...</td>\n",
       "      <td>\\nCase Number: HCJ 4477/00\\n\\nCase Type: Admin...</td>\n",
       "      <td>In the Supreme Court of Israel, HCJ 4477/00 Be...</td>\n",
       "      <td>['1(א)', '4477/00']</td>\n",
       "      <td>[0 0 0 0 0 1 0 0 0 0 0 0 0 0 0 0 0 0 0 0 0 0 0...</td>\n",
       "    </tr>\n",
       "    <tr>\n",
       "      <th>2</th>\n",
       "      <td>1890/16</td>\n",
       "      <td>ע\"פ 1890/16</td>\n",
       "      <td>2017-03-09</td>\n",
       "      <td>https://supremedecisions.court.gov.il/Verdicts...</td>\n",
       "      <td>פסק דין בתיק ע\"פ 1890/16 בבית המשפט העליון בשב...</td>\n",
       "      <td>1. Case Number: 1890/16\\n\\n2. Case Type: Crimi...</td>\n",
       "      <td>In this case, the Hebrew text is a translation...</td>\n",
       "      <td>['9816/09', '1890/16', '345(א)(1)', '345(ב)(1)...</td>\n",
       "      <td>[0 0 0 0 0 0 0 0 0 0 0 0 0 0 0 0 0 0 0 0 0 0 0...</td>\n",
       "    </tr>\n",
       "    <tr>\n",
       "      <th>3</th>\n",
       "      <td>7176/04</td>\n",
       "      <td>ע\"פ 7176/04 ירונ תלמי נ. מדינת ישראל</td>\n",
       "      <td>2006-02-02</td>\n",
       "      <td>https://supremedecisions.court.gov.il/Verdicts...</td>\n",
       "      <td>פסק-דין בתיק ע\"פ 7176/04 בבית המשפט העליון בשב...</td>\n",
       "      <td>Case Number: T.P. 2328/01\\n\\nCase Type: Crimin...</td>\n",
       "      <td>In the case of Appellant Yaron Telmi v. State ...</td>\n",
       "      <td>['61(א)(4)', '7(א)', '40075/04', '46', '185/87...</td>\n",
       "      <td>[0 0 0 0 0 0 0 0 0 0 0 0 0 0 0 0 0 0 0 0 0 0 0...</td>\n",
       "    </tr>\n",
       "    <tr>\n",
       "      <th>4</th>\n",
       "      <td>3766/12</td>\n",
       "      <td>ע\"א 3766/12</td>\n",
       "      <td>2012-06-17</td>\n",
       "      <td>https://supremedecisions.court.gov.il/Verdicts...</td>\n",
       "      <td>החלטה בתיק ע\"א 3766/12 בבית המשפט העליון בירוש...</td>\n",
       "      <td>1. Case Number: A3766/12\\n\\n2. Case Type: Civi...</td>\n",
       "      <td>The decision in Case A3766/12 at the Supreme C...</td>\n",
       "      <td>['1113/97', '3766/12', '471ג(ד)', '8467/06', '...</td>\n",
       "      <td>[0 0 0 0 0 0 0 0 0 0 0 0 0 0 0 0 0 0 0 0 0 0 0...</td>\n",
       "    </tr>\n",
       "    <tr>\n",
       "      <th>5</th>\n",
       "      <td>8178/12</td>\n",
       "      <td>ע\"א 8178/12 עו\"ד צבי סלנט נ. יונתנ גוטליב</td>\n",
       "      <td>2014-11-12</td>\n",
       "      <td>https://supremedecisions.court.gov.il/Verdicts...</td>\n",
       "      <td>החלטה בתיק ע\"א 8178/12 בבית המשפט העליון בשבתו...</td>\n",
       "      <td>1. Case Number: Appeal No. 8178/12\\n\\n2. Case ...</td>\n",
       "      <td>In the case of Appeal No. 8178/12 at the Supre...</td>\n",
       "      <td>['8178/12', '7998/12']</td>\n",
       "      <td>[0 0 0 0 0 0 0 0 0 0 0 0 0 0 0 0 0 0 0 0 0 0 0...</td>\n",
       "    </tr>\n",
       "    <tr>\n",
       "      <th>6</th>\n",
       "      <td>3015/09</td>\n",
       "      <td>ע\"פ 3015/09 מדינת ישראל נ. פואד קדיח</td>\n",
       "      <td>2010-07-20</td>\n",
       "      <td>https://supremedecisions.court.gov.il/Verdicts...</td>\n",
       "      <td>פסק דין בתיק ע\"פ 3015/09 בבית המשפט העליון בשב...</td>\n",
       "      <td>1. Case Number: Criminal Appeal No. 3015/09, C...</td>\n",
       "      <td>The State of Israel appeals the sentence issue...</td>\n",
       "      <td>['3', '1242/97', '9097/05', '499(א)(1)', '3015...</td>\n",
       "      <td>[0 0 0 0 0 0 0 0 0 0 0 0 0 0 0 0 0 0 0 0 0 0 0...</td>\n",
       "    </tr>\n",
       "    <tr>\n",
       "      <th>7</th>\n",
       "      <td>4272/05</td>\n",
       "      <td>ע\"פ 4272/05 אמיר חג'וג' נ. מדינת ישראל</td>\n",
       "      <td>2006-01-04</td>\n",
       "      <td>https://supremedecisions.court.gov.il/Verdicts...</td>\n",
       "      <td>פסק-דין בתיק ע\"פ 4272/05 בבית המשפט העליון בשב...</td>\n",
       "      <td>1. Case Number: Appeal No. 4272/05\\n\\n2. Case ...</td>\n",
       "      <td>In the case of Appeal No. 4272/05 at the Supre...</td>\n",
       "      <td>['3121/04', '4272/05']</td>\n",
       "      <td>[0 0 0 0 0 0 0 0 0 0 0 0 0 0 0 0 0 0 0 0 0 0 0...</td>\n",
       "    </tr>\n",
       "    <tr>\n",
       "      <th>8</th>\n",
       "      <td>10467/08</td>\n",
       "      <td>ע\"א 10467/08 עומר חג'אזי נ. אדיב עיסא דיאב</td>\n",
       "      <td>2010-11-03</td>\n",
       "      <td>https://supremedecisions.court.gov.il/Verdicts...</td>\n",
       "      <td>פסק דין בתיק ע\"א 10467/08 בבית המשפט העליון בש...</td>\n",
       "      <td>Case Number: Appeal No. 10467/08\\n\\nCase Type:...</td>\n",
       "      <td>The case of Appeal No. 10467/08 at the Supreme...</td>\n",
       "      <td>['9', '2643/97', '380/88', '2275/90', '534/06'...</td>\n",
       "      <td>[0 0 0 0 0 0 0 0 0 0 0 0 0 0 0 0 0 0 1 0 0 0 0...</td>\n",
       "    </tr>\n",
       "    <tr>\n",
       "      <th>9</th>\n",
       "      <td>3330/11</td>\n",
       "      <td>ע\"א 3330/11 אגד אגודה שיתופית לתחבורה בישראל ב...</td>\n",
       "      <td>2011-11-17</td>\n",
       "      <td>https://supremedecisions.court.gov.il/Verdicts...</td>\n",
       "      <td>פסק דין בתיק ע\"א 3330/11 בבית המשפט העליון בשב...</td>\n",
       "      <td>1. Case Number: Appeal No. 3330/11\\n\\n2. Case ...</td>\n",
       "      <td>In the case of Appeal No. 3330/11 at the Supre...</td>\n",
       "      <td>['329/08', '6ב', '3330/11', '81', '4ג', '79א']</td>\n",
       "      <td>[0 0 0 0 0 0 0 0 0 0 0 0 0 0 0 0 0 0 0 0 0 0 0...</td>\n",
       "    </tr>\n",
       "  </tbody>\n",
       "</table>\n",
       "</div>"
      ],
      "text/plain": [
       "  case_number                                     procedure_name   case_date  \\\n",
       "0     1108/97              ע\"א 1108/97 מרחיב אביב נ. מדינת ישראל  1997-05-11   \n",
       "1     4477/00  ע\"א 4477/00 לודמילה וורוביוב נ. היועצ המשפטי ל...  2000-07-06   \n",
       "2     1890/16                                        ע\"פ 1890/16  2017-03-09   \n",
       "3     7176/04               ע\"פ 7176/04 ירונ תלמי נ. מדינת ישראל  2006-02-02   \n",
       "4     3766/12                                        ע\"א 3766/12  2012-06-17   \n",
       "5     8178/12          ע\"א 8178/12 עו\"ד צבי סלנט נ. יונתנ גוטליב  2014-11-12   \n",
       "6     3015/09               ע\"פ 3015/09 מדינת ישראל נ. פואד קדיח  2010-07-20   \n",
       "7     4272/05             ע\"פ 4272/05 אמיר חג'וג' נ. מדינת ישראל  2006-01-04   \n",
       "8    10467/08         ע\"א 10467/08 עומר חג'אזי נ. אדיב עיסא דיאב  2010-11-03   \n",
       "9     3330/11  ע\"א 3330/11 אגד אגודה שיתופית לתחבורה בישראל ב...  2011-11-17   \n",
       "\n",
       "                                           case_link  \\\n",
       "0  https://supremedecisions.court.gov.il/Verdicts...   \n",
       "1  https://supremedecisions.court.gov.il/Verdicts...   \n",
       "2  https://supremedecisions.court.gov.il/Verdicts...   \n",
       "3  https://supremedecisions.court.gov.il/Verdicts...   \n",
       "4  https://supremedecisions.court.gov.il/Verdicts...   \n",
       "5  https://supremedecisions.court.gov.il/Verdicts...   \n",
       "6  https://supremedecisions.court.gov.il/Verdicts...   \n",
       "7  https://supremedecisions.court.gov.il/Verdicts...   \n",
       "8  https://supremedecisions.court.gov.il/Verdicts...   \n",
       "9  https://supremedecisions.court.gov.il/Verdicts...   \n",
       "\n",
       "                                       document_body  \\\n",
       "0  בבית המשפט העליון בש\"פ 97 / 1108 בפני: כבוד הר...   \n",
       "1  בבית המשפט העליון בה\"נ 4477/00 בפני כבוד נשיא ...   \n",
       "2  פסק דין בתיק ע\"פ 1890/16 בבית המשפט העליון בשב...   \n",
       "3  פסק-דין בתיק ע\"פ 7176/04 בבית המשפט העליון בשב...   \n",
       "4  החלטה בתיק ע\"א 3766/12 בבית המשפט העליון בירוש...   \n",
       "5  החלטה בתיק ע\"א 8178/12 בבית המשפט העליון בשבתו...   \n",
       "6  פסק דין בתיק ע\"פ 3015/09 בבית המשפט העליון בשב...   \n",
       "7  פסק-דין בתיק ע\"פ 4272/05 בבית המשפט העליון בשב...   \n",
       "8  פסק דין בתיק ע\"א 10467/08 בבית המשפט העליון בש...   \n",
       "9  פסק דין בתיק ע\"א 3330/11 בבית המשפט העליון בשב...   \n",
       "\n",
       "                               document_body_eng_sum  \\\n",
       "0  1. Case Number: 97/1108\\n\\n2. Case Type: Admin...   \n",
       "1  \\nCase Number: HCJ 4477/00\\n\\nCase Type: Admin...   \n",
       "2  1. Case Number: 1890/16\\n\\n2. Case Type: Crimi...   \n",
       "3  Case Number: T.P. 2328/01\\n\\nCase Type: Crimin...   \n",
       "4  1. Case Number: A3766/12\\n\\n2. Case Type: Civi...   \n",
       "5  1. Case Number: Appeal No. 8178/12\\n\\n2. Case ...   \n",
       "6  1. Case Number: Criminal Appeal No. 3015/09, C...   \n",
       "7  1. Case Number: Appeal No. 4272/05\\n\\n2. Case ...   \n",
       "8  Case Number: Appeal No. 10467/08\\n\\nCase Type:...   \n",
       "9  1. Case Number: Appeal No. 3330/11\\n\\n2. Case ...   \n",
       "\n",
       "                               document_body_english  \\\n",
       "0  In the Supreme Court of Israel Case No. 97/110...   \n",
       "1  In the Supreme Court of Israel, HCJ 4477/00 Be...   \n",
       "2  In this case, the Hebrew text is a translation...   \n",
       "3  In the case of Appellant Yaron Telmi v. State ...   \n",
       "4  The decision in Case A3766/12 at the Supreme C...   \n",
       "5  In the case of Appeal No. 8178/12 at the Supre...   \n",
       "6  The State of Israel appeals the sentence issue...   \n",
       "7  In the case of Appeal No. 4272/05 at the Supre...   \n",
       "8  The case of Appeal No. 10467/08 at the Supreme...   \n",
       "9  In the case of Appeal No. 3330/11 at the Supre...   \n",
       "\n",
       "                                          legal_refs  \\\n",
       "0                                                 []   \n",
       "1                                ['1(א)', '4477/00']   \n",
       "2  ['9816/09', '1890/16', '345(א)(1)', '345(ב)(1)...   \n",
       "3  ['61(א)(4)', '7(א)', '40075/04', '46', '185/87...   \n",
       "4  ['1113/97', '3766/12', '471ג(ד)', '8467/06', '...   \n",
       "5                             ['8178/12', '7998/12']   \n",
       "6  ['3', '1242/97', '9097/05', '499(א)(1)', '3015...   \n",
       "7                             ['3121/04', '4272/05']   \n",
       "8  ['9', '2643/97', '380/88', '2275/90', '534/06'...   \n",
       "9     ['329/08', '6ב', '3330/11', '81', '4ג', '79א']   \n",
       "\n",
       "                               legal_refs_sparse_vec  \n",
       "0  [0 0 0 0 0 0 0 0 0 0 0 0 0 0 0 0 0 0 0 0 0 0 0...  \n",
       "1  [0 0 0 0 0 1 0 0 0 0 0 0 0 0 0 0 0 0 0 0 0 0 0...  \n",
       "2  [0 0 0 0 0 0 0 0 0 0 0 0 0 0 0 0 0 0 0 0 0 0 0...  \n",
       "3  [0 0 0 0 0 0 0 0 0 0 0 0 0 0 0 0 0 0 0 0 0 0 0...  \n",
       "4  [0 0 0 0 0 0 0 0 0 0 0 0 0 0 0 0 0 0 0 0 0 0 0...  \n",
       "5  [0 0 0 0 0 0 0 0 0 0 0 0 0 0 0 0 0 0 0 0 0 0 0...  \n",
       "6  [0 0 0 0 0 0 0 0 0 0 0 0 0 0 0 0 0 0 0 0 0 0 0...  \n",
       "7  [0 0 0 0 0 0 0 0 0 0 0 0 0 0 0 0 0 0 0 0 0 0 0...  \n",
       "8  [0 0 0 0 0 0 0 0 0 0 0 0 0 0 0 0 0 0 1 0 0 0 0...  \n",
       "9  [0 0 0 0 0 0 0 0 0 0 0 0 0 0 0 0 0 0 0 0 0 0 0...  "
      ]
     },
     "execution_count": 7,
     "metadata": {},
     "output_type": "execute_result"
    }
   ],
   "source": [
    "df_legal_short.head(10)"
   ]
  },
  {
   "cell_type": "markdown",
   "metadata": {},
   "source": [
    "### Convert DataFrame into Documents"
   ]
  },
  {
   "cell_type": "code",
   "execution_count": 8,
   "metadata": {},
   "outputs": [],
   "source": [
    "df_loader = DataFrameLoader(df_legal_short, page_content_column=\"document_body_eng_sum\")\n",
    "docs = df_loader.load()"
   ]
  },
  {
   "cell_type": "code",
   "execution_count": 9,
   "metadata": {},
   "outputs": [
    {
     "data": {
      "text/plain": [
       "[Document(metadata={'case_number': '1108/97', 'procedure_name': 'ע\"א 1108/97 מרחיב אביב נ. מדינת ישראל', 'case_date': '1997-05-11', 'case_link': 'https://supremedecisions.court.gov.il/Verdicts/Results/1/null/1997/1108/1/8/null/null/null', 'document_body': 'בבית המשפט העליון בש\"פ 97 / 1108 בפני: כבוד הרשמת א\\' אפעל-גבאי המבקש: מרחיב אביב נגד המשיבה: מדינת ישראל בקשה להארכת מועד להגשת ערעור בשם המבקש: עו\"ד איילון אורון בשם המשיבה עו\"ד נאוה בן-אור החלטה הארכת מועד כמבוקש. ניתנה היום, ד\\' באייר תשנ\"ז (11.5.97). אורית אפעל-גבאי, שופטת ר ש מ ת העתק מתאים למקור שמריהו כהן - מזכיר ראשי 97011080.Q03', 'document_body_english': \"In the Supreme Court of Israel Case No. 97/1108 Before: Honorable Justice A. Epstein-Gabay Petitioner: Aviv Marehiv against Respondent: State of Israel Request for Extension of Time to File an Appeal On behalf of the petitioner: Advocate Eilon Oron On behalf of the respondent: Advocate Nava Ben-Or As requested, the deadline is extended. Given on this 11th day of Iyar 5757 (May 11, 1997). Orith Epstein-Gabay, Judge Clerk's Copy Certified True Copy Shmaryahu Cohen - Chief Clerk Case No. 97011080.Q03\", 'legal_refs': '[]', 'legal_refs_sparse_vec': '[0 0 0 0 0 0 0 0 0 0 0 0 0 0 0 0 0 0 0 0 0 0 0 0 0 0 0 0 0 0 0 0 0 0 0 0 0\\n 0 0 0 0 0 0 0 0 0 0 0 0 0 0 0 0 0 0 0 0 0 0 0 0 0 0 0 0 0 0 0 0 0 0 0 0 0\\n 0 0 0 0 0 0 0 0 0 0 0 0 0 0 0 0 0 0 0 0 0 0 0 0 0 0 0 0 0 0 0 0 0 0 0 0 0\\n 0 0 0 0 0 0 0 0 0 0 0 0 0 0 0 0 0 0 0 0 0 0 0 0 0 0 0 0 0 0 0 0 0 0 0 0 0\\n 0 0 0 0 0 0 0 0 0 0 0 0 0 0 0 0 0 0 0 0 0 0 0 0 0 0 0 0 0 0 0 0 0 0 0 0 0\\n 0 0 0 0 0 0 0 0 0 0 0 0 0 0 0 0 0 0 0 0 0 0 0 0 0 0 0 0 0 0 0 0 0 0 0 0 0\\n 0 0 0 0 0 0 0 0 0 0 0 0 0 0 0 0 0 0 0 0 0 0 0 0 0 0 0 0 0 0 0 0 0 0 0 0 0\\n 0 0 0 0 0 0 0 0 0 0 0 0 0 0 0 0 0 0 0 0 0 0 0 0 0 0 0 0 0 0 0 0 0 0 0 0 0\\n 0 0 0 0 0 0 0 0 0 0 0 0 0 0 0 0 0 0 0 0 0 0 0 0 0 0 0 0 0 0 0 0 0 0 0 0 0\\n 0 0 0 0 0 0 0 0 0 0 0 0 0 0 0 0 0 0 0 0 0 0 0 0 0 0 0 0 0 0 0 0 0 0 0 0 0\\n 0 0 0 0 0 0 0 0 0 0 0 0 0 0 0 0 0 0 0 0 0 0 0 0 0 0 0 0 0 0 0 0 0 0 0 0 0\\n 0 0 0 0 0 0 0 0 0 0 0 0 0 0 0 0 0 0 0 0 0 0 0 0 0 0 0 0 0 0 0 0 0 0 0 0 0\\n 0 0 0 0 0 0 0 0 0 0 0 0 0 0 0 0 0 0 0 0 0 0 0 0 0 0 0 0 0 0 0 0 0 0 0 0 0\\n 0 0 0 0 0 0 0 0 0 0 0 0 0 0]'}, page_content='1. Case Number: 97/1108\\n\\n2. Case Type: Administrative\\n\\n3. Legal Issues:\\n- Request for extension of time to file an appeal\\n\\n4. Summary of Facts:\\n- Aviv Marehiv filed a petition against the State of Israel\\n- Petitioner represented by Advocate Eilon Oron\\n- Respondent represented by Advocate Nava Ben-Or\\n\\n5. Court Decision:\\n- Extension of deadline granted\\n\\n6. Relevant Laws and Precedents:\\n- Supreme Court procedural rules regarding time extensions for appeals'),\n",
       " Document(metadata={'case_number': '4477/00', 'procedure_name': 'ע\"א 4477/00 לודמילה וורוביוב נ. היועצ המשפטי לממשלה', 'case_date': '2000-07-06', 'case_link': 'https://supremedecisions.court.gov.il/Verdicts/Results/1/null/2000/4477/1/8/null/null/null', 'document_body': 'בבית המשפט העליון בה\"נ 4477/00 בפני כבוד נשיא בית המשפט העליון בדיון לפי חוק שיפוט בענייני התרת נישואין (מקרים מיוחדים), התשכ\"ט1969- המבקשים: 1. לודמילה וורוביוב 2. גריגורי וורוביוב נגד המשיב: היועץ המשפטי לממשלה בשם המבקשים: עו\"ד יעקב בר-אל בשם היועץ המשפטי לממשלה: עו\"ד זיוה שמחה החלטה בדבר קביעת שיפוט בענייני התרת נישואין הנני קובע בתוקף סמכותי לפי סעיף 1(א) לחוק שיפוט בענייני התרת נישואין (מקרים מיוחדים), התשכ\"ט1969-, כי לבית המשפט לענייני משפחה במחוזות תל-אביב והמרכז יהיה שיפוט בעניין התרת הנישואין של בני הזוג וורוביוב. ניתנה היום, ב\\' בתמוז התש\"ס (5.7.2000). ה נ ש י א העתק מתאים למקור שמריהו כהן - מזכיר ראשי 00044770.A01/דז/', 'document_body_english': 'In the Supreme Court of Israel, HCJ 4477/00 Before the Honorable President of the Supreme Court, in a hearing pursuant to the Law on Jurisdiction over Matters of Dissolution of Marriage (Special Cases), 5729-1969 The Applicants: 1. Ludmila Vorobiov 2. Grigory Vorobiov Against: The Attorney General On behalf of the Applicants: Adv. Yaakov Bar-El On behalf of the Attorney General: Adv. Ziva Simcha Decision on Determining Jurisdiction over Matters of Dissolution of Marriage I hereby determine, in accordance with my authority under Section 1(a) of the Law on Jurisdiction over Matters of Dissolution of Marriage (Special Cases), 5729-1969, that the Family Court in the Tel Aviv and Central Districts shall have jurisdiction over the matter of dissolving the marriage between Ludmila Vorobiov and Grigory Vorobiov. Given on this second day of Tammuz, 5760 (July 5, 2000). THE PRESIDENT A true copy of the original. Shimriya Cohen - Chief Clerk', 'legal_refs': \"['1(א)', '4477/00']\", 'legal_refs_sparse_vec': '[0 0 0 0 0 1 0 0 0 0 0 0 0 0 0 0 0 0 0 0 0 0 0 0 0 0 0 0 0 0 0 0 0 0 0 0 0\\n 0 0 0 0 0 0 0 0 0 0 0 0 0 0 0 0 0 0 0 0 0 0 0 0 0 0 0 0 0 0 0 0 0 0 0 0 0\\n 0 0 0 0 0 0 0 0 0 0 0 0 0 0 0 0 0 0 0 0 0 0 0 0 0 0 0 0 0 0 0 0 0 0 0 0 0\\n 0 0 0 0 0 0 0 0 0 0 0 0 0 0 0 0 0 0 0 0 0 0 0 0 0 0 0 0 0 0 0 0 0 0 0 0 0\\n 0 0 0 0 0 0 0 0 0 0 0 0 0 0 0 0 0 0 0 0 0 0 0 0 0 0 0 0 0 0 0 0 0 0 0 0 0\\n 0 0 0 0 0 0 0 0 0 0 0 0 0 0 0 0 0 0 0 0 0 0 0 0 0 0 0 0 0 0 0 0 0 0 0 0 0\\n 0 0 0 0 0 0 0 0 0 0 0 0 0 0 0 0 0 0 0 0 0 0 1 0 0 0 0 0 0 0 0 0 0 0 0 0 0\\n 0 0 0 0 0 0 0 0 0 0 0 0 0 0 0 0 0 0 0 0 0 0 0 0 0 0 0 0 0 0 0 0 0 0 0 0 0\\n 0 0 0 0 0 0 0 0 0 0 0 0 0 0 0 0 0 0 0 0 0 0 0 0 0 0 0 0 0 0 0 0 0 0 0 0 0\\n 0 0 0 0 0 0 0 0 0 0 0 0 0 0 0 0 0 0 0 0 0 0 0 0 0 0 0 0 0 0 0 0 0 0 0 0 0\\n 0 0 0 0 0 0 0 0 0 0 0 0 0 0 0 0 0 0 0 0 0 0 0 0 0 0 0 0 0 0 0 0 0 0 0 0 0\\n 0 0 0 0 0 0 0 0 0 0 0 0 0 0 0 0 0 0 0 0 0 0 0 0 0 0 0 0 0 0 0 0 0 0 0 0 0\\n 0 0 0 0 0 0 0 0 0 0 0 0 0 0 0 0 0 0 0 0 0 0 0 0 0 0 0 0 0 0 0 0 0 0 0 0 0\\n 0 0 0 0 0 0 0 0 0 0 0 0 0 0]'}, page_content='\\nCase Number: HCJ 4477/00\\n\\nCase Type: Administrative/Family Law\\n\\nLegal Issues:\\n- Determination of jurisdictional authority for marriage dissolution\\n- Application of Special Cases law regarding marriage dissolution\\n\\nSummary of Facts:\\n- Petitioners are Ludmila Vorobiov and Grigory Vorobiov\\n- Case concerns jurisdiction over marriage dissolution\\n- Matter brought before Supreme Court President\\n- Parties represented by legal counsel\\n- Application made under Special Cases law\\n\\nCourt Decision:\\nFamily Court in Tel Aviv and Central Districts granted jurisdiction over the marriage dissolution\\n\\nRelevant Laws and Precedents:\\n- Law on Jurisdiction over Matters of Dissolution of Marriage (Special Cases), 5729-1969\\n- Section 1(a) of the Law on Jurisdiction over Matters of Dissolution of Marriage'),\n",
       " Document(metadata={'case_number': '1890/16', 'procedure_name': 'ע\"פ 1890/16', 'case_date': '2017-03-09', 'case_link': 'https://supremedecisions.court.gov.il/Verdicts/Results/1/null/2016/1890/1/8/null/null/null', 'document_body': 'פסק דין בתיק ע\"פ 1890/16 בבית המשפט העליון בשבתו כבית משפט לערעורים פליליים ע\"פ 1890/16 לפני: כבוד השופטת א\\' חיות כבוד השופט נ\\' סולברג כבוד השופטת ד\\' ברק-ארז המערער: יורם אוחיון נגד המשיבה: מדינת ישראל ערעור על פסק דינו של בית המשפט המחוזי ירושלים בת\"פ 21923-10-14 שניתן ביום 27.1.2016 על ידי כב\\' השופט הבכיר א\\' כהן תאריך הישיבה: כ\"ז בשבט התשע\"ז (23.02.2017) בשם המערער: עו\"ד מיכאל עירוני בשם המשיבה: עו\"ד רחל זוארץ-לוי פסק דין השופטת א\\' חיות: ערעור על גזר דינו של בית המשפט המחוזי בירושלים (כב\\' השופט הבכיר א\\' כהן) מיום 27.1.2016 בת\"פ 21923-10-14 אשר גזר על המערער, בין היתר, 5 שנות מאסר בפועל בגין הרשעתו בביצוע מעשה מגונה בקטינה כבת 9 שנים (להלן: המתלוננת). 1. נגד המערער הוגש כתב אישום המייחס לו ביצוע מעשה מגונה שלא בהסכמה בקטינה מתחת לגיל 16 (סעיפים 348(ב), 345(א)(1) ו- 345(ב)(1) לחוק העונשין, התשל\"ז-1977 – להלן: חוק העונשין). על פי עובדות כתב האישום, ביום 26.9.2014 פגש המערער במתלוננת בעודה הולכת ברחוב לעבר בית הכנסת שבו התפללה אמה. על פי הנטען, המערער ביקש מהמתלוננת לסייע לו לסחוב עגלה בה החזיק ובדרך זו הוביל אותה אל תוך בניין סמוך. או אז, הורה המערער למתלוננת לשים את ידיה על הקיר והפשיל את הגרביונים והתחתונים אותם לבשה. המתלוננת ניסתה ללבוש בחזרה את בגדיה אך המערער הורה לה שלא לעשות כן והוציא את איבר מינו מתוך מכנסיו, התיישב על הרצפה והורה למתלוננת לשבת עליו כשגבה מופנה אליו. המתלוננת עשתה כדבריו ובעודה יושבת עליו החזיק המערער בישבנה ולחץ את איבר מינו אל איבר מינה תוך שהוא מורה לה להסתכל על איבר מינו ושואל אותה אם \"מדגדג לה\". כעבור מספר דקות הגיע המערער לפורקן והורה למתלוננת לקום. המתלוננת קמה, לבשה את בגדיה וברחה מהמקום. 2. ביום 12.5.2015 הרשיע בית המשפט קמא את המערער על פי הודאתו במיוחס לו בכתב האישום והורה על הגשת תסקיר נפגעת עבירה, אך נוכח סירובה של משפחת המתלוננת להיפגש עם שירות המבחן לא עלה בידו לחבר תסקיר כאמור. ביום 6.1.2016 נשמעו טיעונים לעונש במהלכם העידו אחיו של המערער וגרושתו וביום 27.1.2016 גזר בית המשפט קמא את דינו. בגזר הדין עמד בית המשפט על חומרת העבירה שבה הורשע המערער ועל כך שבסעיף 355(א) לחוק העונשין קבע המחוקק שהעונש בגין עבירה זו לא יפחת מ- 2.5 שנות מאסר אלא בהתקיים טעמים מיוחדים לגזור עונש נמוך יותר. בנוסף על כך קבע בית המשפט קמא כי גם בהיעדר תסקיר נפגעת עבירה ניתן להניח שמעשיו של המערער גרמו למתלוננת נזק בציינו, בין היתר, את עובדת היותה בת למשפחה חרדית. עוד ציין בית המשפט קמא כי מעשיו של המערער התאפיינו בתכנון מוקדם ובניצול פערי הכוחות בינו ובין המתלוננת. מטעמים אלו, ובהתחשב במדיניות הענישה הנוהגת במקרים דומים, קבע בית המשפט קמא כי מתחם העונש ההולם נע בין 2.5 ל- 5.5 שנות מאסר. בבואו לקבוע את העונש שיש להטיל על המערער בתוך המתחם, הוסיף בית המשפט והתייחס לעברו הפלילי המכביד הכולל הרשעות בעבירות אלימות ומין בקטינים בגינן ריצה עונשי מאסר. בהתייחסו להרשעותיו של המערער ציין בית המשפט את הרשעתו בעבירות מין שונות במספר מתלוננים בגינן ריצה שמונה שנות מאסר וכן התייחס להרשעתו בעבירת תקיפה משנת 2006, בציינו כי ההרכב שדן בערעור שהגיש המערער באותה פרשה, העלה את האפשרות כי אותה התקיפה בוצעה על רקע ניסיון לבצע עבירת מין, אף שהמערער לא הורשע בכך באותו הליך. מנגד, התחשב בית המשפט קמא בנסיבותיו האישיות של המערער, בהודאתו באשמה ובנטילת האחריות מצדו. בשים לב לשיקולים אלו כולם גזר בית המשפט קמא על המערער 5 שנות מאסר בפועל ושנתיים מאסר על תנאי. כמו כן חייב בית המשפט את המערער לשלם למתלוננת פיצוי בסך 25,000 ש\"ח. 3. בערעור שבפנינו טוען המערער כי העונש שנגזר עליו סוטה באופן ניכר לחומרה מן הענישה הנוהגת במקרים דומים וכי בית המשפט קמא התעלם מגזרי דין רבים שהוצגו על ידו בתמיכה לטענה זו. עוד טוען המערער כי בית המשפט קמא לא נתן משקל הולם לנסיבות חייו הקשות, להודאתו באשמה, לחרטה שהביע ולעדויות האופי שנשמעו. כמו כן טוען המערער כי בית המשפט קמא ייחס משקל יתר לעברו הפלילי ולנזק שנגרם למתלוננת, למרות שלא הוגש במקרה דנן תסקיר נפגעת עבירה ממנו ניתן ללמוד על נזק ספציפי שנגרם לה בעקבות האירוע. עוד טוען המערער בהקשר זה כי לא היה מקום להתייחס לעבירת התקיפה בה הורשע בשנת 2006 כאל עבירת מין וכי אין לייחס לו ביצוע עבירות מין שבהן לא הורשע. בנוסף על כך נטען כי בית המשפט קמא התעלם משיקולי השיקום הקיימים בעניינו של המערער ומכך שהוא מעוניין להשתלב בהליך טיפולי. המדינה טוענת מנגד כי העונש שנגזר על המערער אינו חורג מרף הענישה המקובל במקרים דומים וכי בגזרי הדין שאליהם מפנה המערער דובר באירועים שנסיבותיהם שונות מנסיבותיו של המקרה דנן. המדינה מדגישה את חומרת מעשיו של המערער ואת עברו הפלילי המכביד והיא מוסיפה כי המערער טרם החל לשלם למתלוננת את הפיצוי שנפסק לטובתה. כמו כן, מדגישה המדינה את הצורך להרתיע את המערער מפני ביצוע מעשים דומים בעתיד וזאת בפרט לנוכח העובדה שלחובתו הרשעות בעבירות מין קודמות. 4. דין הערעור להידחות. הלכה היא כי אין ערכאת הערעור נוהגת להתערב בעונש שגזרה הערכאה הדיונית אלא במקרים חריגים שבהם העונש שנגזר סוטה באופן בולט ממדיניות הענישה הנוהגת או הראויה לגבי מקרים דומים (ע\"פ 8021/13 תותונגי נ\\' מדינת ישראל, בפסקה 14 (29.10.2014)). המקרה דנן, אינו נמנה עם מקרים חריגים אלו (ראו והשוו: ע\"פ 9816/09 ליסק נ\\' מדינת ישראל (24.6.2010)). אמנם, העונש שנגזר על המערער אינו מן הקלים ואולם, מדיניות הענישה לגבי עבירות מין בקטינים היא כידוע מדיניות מחמירה וזאת נוכח החומרה המיוחדת הכרוכה בביצוען של עבירות אלו ופגיעתן הקשה באוכלוסייה שבית המשפט מחוייב להקפיד הקפדה יתרה בהגנה עליה (ראו: ע\"פ 1555/13 פלוני נ\\' מדינת ישראל (9.6.2014)). זאת, ביתר שאת מקום שבו מדובר בנאשמים דוגמת המערער אשר כבר הורשעו בעבר בביצוע עבירות מין ויש חשש כי יבצעו עבירות מין נוספות בעתיד (ע\"פ 5484/09 פלוני נ\\' מדינת ישראל, בפסקה 6 (17.11.2009)). אמנם, צודק המערער כי לא היה מקום לייחס להרשעתו בתקיפה קונוטציות מיניות בלא שהואשם ובלא שהורשע בכך. עם זאת, לחובתו הרשעה קודמת בגין עבירות מין מרובות שחלקן בוצעו נגד קטינים (ת\"פ 82/96). לפיכך, צדק בית המשפט קמא משנתן משקל של ממש לעברו הפלילי המכביד ולהרשעותיו הקודמות. לכך יש להוסיף כי המעשה המגונה שבו הורשע המערער במקרה דנן, מצוי במדרג גבוה של חומרה הן מבחינת גילה של המתלוננת והן מבחינת מכלול נסיבות המקרה המאופיינות ב\"ציד\" של קורבן תמים. 5. טענתו של המערער לפיה העובדה שלא הוגש תסקיר נפגעת עבירה בענייננו מצדיקה הקלה בעונשו דינה להידחות. יפים לעניין זה דבריה של השופטת ע\\' ארבל בע\"פ 6695/08 פלוני נ\\' מדינת ישראל (26.1.2009) בציינה כי: פעמים רבות תסקיר קרבן חיוני הוא בכדי להציג בפני בית המשפט את מצבו העדכני של קרבן העבירה ולעמוד על הנזקים שנגרמו לו או לה. ואולם, מקום שלא הוגש תסקיר קרבן אין משמעם של דברים כי בית המשפט רשאי להניח כי נפגע העבירה יצא ללא פגע והעבירה שבוצעה בו לא הותירה בו רישומה. מדובר בעבירות שהנזק טבוע בהן מעצם טיבן וקיומו הוא בבחינת הנחה שאין צורך להוכיחה. כמובן, מקום שמבקשים להראות את חומרת הנזק והיקפו, יכול הדבר להיעשות באמצעות תסקיר קרבן. מכאן, היעדרו של תסקיר קרבן אינו מעלה ואינו מוריד במקרה דנן וגם אם המתלוננת היא אכן נערה חברותית ומתפקדת, הלוא זה למרות מעשיו של המערער ואין בכך כדי להפחית מחומרתם. (שם, בפסקה 9) לבסוף אציין כי שיקולי שיקום אף הם אינם מצדיקים במקרה דנן הקלה בעונש. אמנם, יש לברך על הרצון שהביע המערער להשתלב בהליך טיפולי. עם זאת, המערער טרם שולב בהליך כאמור. הוא אף לא החל לשלם את הפיצוי שנפסק לטובת המתלוננת, ובהינתן מסוכנותו וחומרת מעשיו כמפורט לעיל יש ליתן במקרה זה מעמד בכורה לשיקולי גמול והרתעה. אשר על כן, הערעור נדחה. ניתן היום, י\"א באדר התשע\"ז (9.3.2017). ש ו פ ט ת ש ו פ ט ש ו פ ט ת העותק כפוף לשינויי עריכה וניסוח. 16018900_V02.doc רש מרכז מידע, טל\\' 077-2703333 ; אתר אינטרנט, www.court.gov.il', 'document_body_english': 'In this case, the Hebrew text is a translation of an Israeli Supreme Court decision. The original Hebrew text reads as follows: \"Judgment in Case No. 1890/16 at the Supreme Court sitting as a criminal appeals court. Before: Justice E. Hayut; Justice N. Sohlberg; Justice D. Barak-Erez. Appellant: Yoram Ohayon against Respondent: State of Israel. Appeal against the judgment of the Jerusalem District Court (Honorable Senior Judge A. Cohen) dated January 27, 2016 in Case No. 21923-10-14. Date of hearing: February 23, 2017. For the Appellant: Adv. Michael Irroni. For the Respondent: Adv. Rachel Zoarce-Levy. Judgment by Justice E. Hayut:\" The English translation is as follows: \"Judgment in Case No. 1890/16 at the Supreme Court sitting as a criminal appeals court. Before: Justice E. Hayut; Justice N. Sohlberg; Justice D. Barak-Erez. Appellant: Yoram Ohayon against Respondent: State of Israel. Appeal against the judgment of the Jerusalem District Court (Honorable Senior Judge A. Cohen) dated January 27, 2016 in Case No. 21923-10-14. Date of hearing: February 23, 2017. For the Appellant: Adv. Michael Irroni. For the Respondent: Adv. Rachel Zoarce-Levy. Judgment by Justice E. Hayut:\"  Against the appellant, a criminal indictment was filed alleging that he committed an indecent act without consent on a minor under the age of 16 (Articles 348(b), 345(a)(1) and 345(b)(1) of the Penal Law, 1977 - hereinafter: the Penal Law). According to the indictment\\'s facts, on September 26, 2014, the appellant met the complainant while she was walking towards a synagogue where her mother prayed. The appellant allegedly asked the complainant to help him carry a cart he had and in this way led her into a nearby building. Then, the appellant ordered the complainant to put her hands on the wall and pulled down her stockings and underwear. The complainant tried to put her clothes back on but the appellant ordered her not to do so and took out his penis from his pants, sat on the floor, and ordered the complainant to sit on him with her back facing him. The complainant did as he said and while sitting on him, the appellant held her buttocks and pressed his penis against her vagina while asking her if it tickled her. After a few minutes, the appellant reached climax and ordered the complainant to get up. The complainant got dressed and ran away from the place.  In the Hebrew text, I will provide a complete word-for-word translation of the given material without summarizing or paraphrasing. 2. On May 12, 2015, the lower court convicted the appellant based on his confession and ordered the submission of a victim impact statement, but due to the refusal of the victim\\'s family to meet with probation services, they were unable to prepare such a report. On January 6, 2016, arguments for sentencing were heard during which the appellant\\'s brother and ex-wife testified, and on January 27, 2016, the lower court handed down its sentence. In the judgment, the lower court emphasized the severity of the offense in which the appellant was convicted and noted that Section 355(a) of the Penal Law stipulates that the minimum punishment for this offense is not less than two and a half years\\' imprisonment unless there are special reasons to impose a lower sentence. In addition, the lower court stated that even in the absence of a victim impact statement, it can be assumed that the appellant\\'s actions caused harm to the victim, noting, among other things, her being part of an Orthodox family. The lower court also noted that the appellant\\'s actions were premeditated and exploited the power imbalance between him and the victim. For these reasons, and in light of the prevailing sentencing policy for similar cases, the lower court determined that the appropriate range of punishment was two and a half to five and a half years\\' imprisonment. When determining the specific sentence within this range, the lower court also took into account the appellant\\'s extensive criminal record, which includes convictions for violent and sexual offenses against minors, for which he served prison sentences.  In reference to the appellant\\'s convictions, the court noted his previous convictions for various sexual offenses against multiple complainants, for which he served eight years in prison. The court also mentioned his conviction for assault in 2006 and stated that the panel that heard his appeal in that case had raised the possibility that the same assault was committed with the intent to commit a sexual offense, even though the appellant was not convicted of this in that proceeding. On the other hand, the court took into account the personal circumstances of the appellant, his admission of guilt, and his acceptance of responsibility. Considering all these factors, the trial court sentenced the appellant to five years\\' imprisonment and two years\\' probation. Additionally, the court ordered the appellant to pay the complainant 25,000 shekels in compensation.  In the appeal before us, the appellant argues that the sentence imposed on him significantly deviates from the usual sentencing in similar cases and that the trial court ignored numerous sentences presented by him to support this claim. The appellant also claims that the trial court did not give appropriate weight to his difficult life circumstances, admission of guilt, expressed remorse, and character witness testimonies. Additionally, he argues that the trial court overemphasized his criminal record and the harm caused to the complainant, despite no specific victim impact statement being submitted in this case. The appellant further claims that the trial court should not have considered the assault conviction from 2006 as a sexual offense and that he should not be held accountable for offenses he was not convicted of. Moreover, the appellant argues that the trial court ignored rehabilitation considerations in his case and his desire to participate in treatment. The state counters by arguing that the sentence imposed on the appellant is not significantly higher than the usual sentencing in similar cases and that the sentences cited by the appellant involved different circumstances from this case. The state emphasizes the severity of the appellant\\'s actions and his extensive criminal record, and adds that the appellant has yet to begin paying the compensation awarded to the complainant. Furthermore, the state stresses the need to deter the appellant from committing similar offenses in the future, especially considering he has prior convictions for sexual offenses.  In the case at hand, the appeal should be dismissed. The general rule is that an appellate court will not intervene in a sentence imposed by the trial court unless there are exceptional circumstances where the sentence deviates significantly from the prevailing or appropriate sentencing policy for similar cases (See: APP 8021/13 Tothongi v. The State, at paragraph 14 (October 29, 2014)). This case does not fall into such exceptional circumstances (see and compare: APP 9816/09 Lisk v. The State (June 24, 2010)). Although the sentence imposed on the appellant is not light, the sentencing policy for sex offenses against minors is well-known to be strict due to the special gravity of such crimes and their severe impact on vulnerable populations that the court must take extra care in protecting (see: APP 1555/13 Ploani v. The State (June 9, 2014)). This is especially true when dealing with defendants like the appellant who have been convicted of sex offenses before and are at risk of committing future sex offenses (see: APP 5484/09 Ploani v. The State, paragraph 6 (November 17, 2009)). While it is true that the appellant\\'s conviction for assault should not have been given a sexual connotation without him being charged or convicted of such an offense, his previous conviction for multiple sex offenses, some of which were committed against minors (T.P. 82/96), justifies the trial court\\'s significant consideration of his past criminal record and prior convictions.  Therefore, we must also add that the indecent act for which the appellant was convicted in this case is of a high level of severity both due to the age of the complainant and the overall circumstances of the case characterized by \"hunting\" down an innocent victim.  The appellant\\'s claim that the lack of a victim impact statement in our case justifies leniency in his sentence is unfounded. As Justice E. Arbel stated in A.P. 6695/08 Ploani v. The State (26.1.2009), \"In many cases, a victim impact statement is crucial to present the current state of the victim and the damages caused by the offense. However, if no such statement has been submitted, it does not mean that the victim was unharmed or that the crime did not leave its mark on them. The harm is inherent in the nature of these offenses, and its existence is presumed without the need to prove it. Of course, if one wishes to show the severity and extent of the damage, this can be done through a victim impact statement. Therefore, the absence of such a statement does not raise or lower anything in our case, and even if the complainant is indeed a friendly and functional girl, this is despite the appellant\\'s actions, and it should not diminish their severity.\" Finally, rehabilitation considerations also do not justify leniency in this case. While it is commendable that the appellant expressed his desire to participate in a therapeutic process, he has not yet been integrated into such a program. He has also not begun paying the compensation awarded to the complainant, and given the appellant\\'s danger and the severity of his actions as described above, rehabilitation considerations should take a backseat in this case. Therefore, the appeal is dismissed. Given today, March 9, 2017. Justice J. Arbel Justice D. Barak-Erez Justice N. Sohlberg The attached copy is subject to editing and revision.  16018900_V02.doc - Supreme Court of Israel, Tel: +972-77-2703333; Website: www.court.gov.il', 'legal_refs': \"['9816/09', '1890/16', '345(א)(1)', '345(ב)(1)', '1555/13', '6695/08', '355(א)', '8021/13', '5484/09', '82/96', '348(ב)']\", 'legal_refs_sparse_vec': '[0 0 0 0 0 0 0 0 0 0 0 0 0 0 0 0 0 0 0 0 0 0 0 0 0 0 0 0 0 0 0 0 0 0 0 0 0\\n 0 0 0 0 0 0 0 0 0 0 0 0 0 0 0 0 0 0 0 0 0 0 0 0 0 0 0 0 0 0 0 0 0 0 0 0 0\\n 0 0 1 0 0 0 0 0 0 0 0 0 0 0 1 0 0 0 0 0 0 0 0 0 0 0 0 0 0 0 0 0 0 0 0 0 0\\n 0 0 0 0 0 0 0 0 0 0 0 0 0 0 0 0 0 0 0 0 0 0 0 0 0 0 0 0 0 0 0 0 0 0 0 0 0\\n 0 0 0 0 0 0 0 0 0 0 0 0 0 0 0 0 0 0 0 0 0 0 0 0 0 0 0 0 0 0 0 0 0 0 0 0 0\\n 0 0 0 0 1 1 0 0 0 1 0 0 1 0 0 0 0 0 0 0 0 0 0 0 0 0 0 0 0 0 0 0 0 0 0 0 0\\n 0 0 0 0 0 0 0 0 0 0 0 0 0 0 0 0 0 0 0 0 0 0 0 0 0 0 0 0 0 0 0 0 0 0 0 0 0\\n 0 0 0 0 0 0 0 0 0 0 0 0 0 0 0 0 0 0 0 0 0 0 0 0 0 0 0 0 0 0 0 0 0 0 0 0 0\\n 0 0 1 0 0 0 0 0 0 0 0 0 0 0 0 0 0 0 0 0 0 0 0 0 0 0 0 0 0 0 0 0 0 0 0 0 0\\n 0 0 0 0 0 0 0 0 1 0 0 0 0 0 0 0 0 0 0 0 0 0 0 0 0 0 0 0 0 0 0 0 0 0 0 0 0\\n 0 0 0 0 0 0 0 0 0 0 0 0 0 0 0 0 0 0 0 0 0 0 0 0 0 0 0 0 0 0 0 0 0 0 0 0 0\\n 0 0 0 0 0 0 1 0 0 0 0 0 0 0 1 0 0 0 0 0 0 0 0 0 0 0 0 0 0 0 0 0 0 0 0 0 0\\n 0 0 0 0 0 0 0 0 0 0 0 0 0 0 0 0 0 0 0 0 0 0 0 0 0 0 0 0 1 0 0 0 0 0 0 0 0\\n 0 0 0 0 0 0 0 0 0 0 0 0 0 0]'}, page_content='1. Case Number: 1890/16\\n\\n2. Case Type: Criminal Appeal\\n\\n3. Legal Issues:\\n- Sexual offense against a minor\\n- Appropriateness of sentencing\\n- Consideration of prior criminal record\\n- Impact of missing victim impact statement\\n- Weight of rehabilitation prospects\\n\\n4. Summary of Facts:\\n- Appellant committed an indecent act on a minor under 16\\n- Appellant lured victim by asking for help with a cart\\n- Appellant forced sexual contact with the victim\\n- Appellant had previous convictions for sexual offenses\\n- Appellant was sentenced to 5 years imprisonment and 2 years probation\\n- Court ordered compensation of 25,000 shekels to victim\\n- Appellant confessed to the crime\\n- No victim impact statement was submitted\\n- Appellant expressed desire for rehabilitation\\n\\n5. Court Decision:\\nAppeal dismissed, original sentence upheld\\n\\n6. Relevant Laws and Precedents:\\n- Articles 348(b), 345(a)(1) and 345(b)(1) of the Penal Law, 1977\\n- Section 355(a) of the Penal Law (minimum punishment provision)\\n- APP 8021/13 Tothongi v. The State\\n- APP 9816/09 Lisk v. The State\\n- APP 1555/13 Ploani v. The State\\n- APP 5484/09 Ploani v. The State\\n- A.P. 6695/08 Ploani v. The State'),\n",
       " Document(metadata={'case_number': '7176/04', 'procedure_name': 'ע\"פ 7176/04 ירונ תלמי נ. מדינת ישראל', 'case_date': '2006-02-02', 'case_link': 'https://supremedecisions.court.gov.il/Verdicts/Results/1/null/2004/7176/1/8/null/null/null', 'document_body': 'פסק-דין בתיק ע\"פ 7176/04 בבית המשפט העליון בשבתו כבית משפט לערעורים פליליים ע\"פ 7176/04 בפני: כבוד המישנה לנשיא מ\\' חשין כבוד השופטת א\\' פרוקצ\\'יה כבוד השופט ס\\' ג\\'ובראן המערער: ירון תלמי נ ג ד המשיבה: מדינת ישראל ערעור על גזר-דינו של בית-המשפט המחוזי בתל-אביב-יפו בת\"פ 40075/04 שניתן ביום 8.6.04 על-ידי כב\\' השופט א\\' שהם תאריך הישיבה: י\"ג בסיון תשס\"ה (20.6.05) בשם המערער: עו\"ד טלי גוטליב בשם המשיבה: עו\"ד מיכאל קרשן פסק-דין המישנה לנשיא מ\\' חשין: פלוני הורשע בעבירה של החזקת סם מסוכן לשימוש עצמי ונגזר עליו מאסר על-תנאי בעבירה שבה הורשע. לימים הורשע פלוני בעבירה של החזקת סם מסוכן שלא לשימוש עצמי. משהורשע פלוני כך בדינו, הניתן בעבירה האחרונה שעבר לחלט את המאסר על-תנאי שנגזר עליו בעבירה הראשונה? זו השאלה נידרש לה בהמשך דברינו להלן. עיקרי העובדות שלעניין 2. המערער הורשע בבית המשפט המחוזי בתל-אביב-יפו - על פי הודאה שבאה בעקבות הסדר טיעון - בעבירה של החזקת סם מסוכן שלא לצריכה עצמית - עבירה כהגדרתה בסעיף 7 לפקודת הסמים המסוכנים [נוסח חדש], תשל\"ג-1973 (פקודת הסמים), ובעבירה של ניסיון לסחר בסם מסוכן - עבירה כהגדרתה בסעיף 13 לפקודת הסמים ביחד עם סעיף 25 לחוק העונשין, תשל\"ז-1977 (חוק העונשין). 3. כדברו של כתב האישום, יום אחד פנה אל המערער אסיר בכלא עתלית וביקש ממנו כי יעביר סם מסוכן לאחרים. בהתאם להנחייה שקיבל מן האסיר, שוחח המערער עם פלוני וקבע עימו פגישה להעברת הסם. בהמשך לשיחה זו נפגש המערער עם אותו פלוני, והלה מסר לו חמישה שקים ובהם 64.82 ק\"ג של סם מסוכן מסוג קנביס. המערער החביא את השקים במקום אחד. בהמשך לאמור הורה האסיר למערער כי יחלק את כמות הסם כדי להפיצו לאחרים, והמערער הלך למקום שבו החביא את הסם כדי למלא אחר ההוראה. אלא שבטרם הספיק למלא אחר ההוראות שקיבל נעצר המערער בידי המשטרה. 4. בעת ביצוע המעשים האמורים לעיל היה תלוי ועומד נגד המערער מאסר על תנאי בן 12 חודשים שהושת עליו בת\"פ 2328/01 (שלום, רחובות). באותה פרשה הורשע המערער בשורה של עבירות - בהן בעבירה של החזקת סם לצריכה עצמית - עבירה כהגדרתה בסעיף 7(א) ו-(ג) סיפה לפקודת הסמים - ובגזר הדין קבע בית-המשפט כי התנאי הוא שהמערער \"לא יעבור את העבירות בהן הורשע על ידי היום\". 5. בעלי-הדין נחלקו ביניהם בשאלת סמכותו של בית-המשפט להורות על חילוטו של המאסר על תנאי, ועל-כן כלל הסדר הטיעון המוסכם ביניהם שתי חלופות לעניין העונש: אם יקבע בית-המשפט כי המאסר על תנאי בר-הפעלה הוא, כי-אז ייגזרו על המערער 32 חודשי מאסר לריצוי בפועל (ובהם הפעלת המאסר המותנה), ואילו אם יקבע בית-המשפט כי המאסר על תנאי אין הוא בר הפעלה, כי-אז ייגזרו על המערער 26 חודשי מאסר לריצוי בפועל. 6. בית-המשפט המחוזי קבע כי המאסר המותנה מאסר בר-הפעלה הוא, ואלה היו דבריו בנמקו החלטתו זו: אין ספק כי המבחן להפעלתו של עונש על תנאי הינו מבחן מהותי-ענייני, ולא מבחן טכני-פורמלי, כפי שנקבע בשורה של פסקי דין אשר ניתנו על ידי בית המשפט העליון... נראה, כי הכוונה הגלומה בהטלת עונש המאסר המותנה הינה להזהיר הנאשם מפני החזקת סם מסוכן בכמות המספיקה לצריכה עצמית, ועל אחת כמה וכמה שאזהרה זו חלה על החזקת סם מסוכן בכמות גדולה בהרבה שמקימה חזקה לפיה הסם מיועד שלא לצריכה עצמית. אין ניתן לקבל טיעון, לפיו אזהרה זו אינה מחייבת את הנאשם שלא לבצע כל עבירה של החזקת סם מסוכן, בין אם לצריכה עצמית ובין אם למטרה אחרת. בהמשך לקביעה זו, ובאמצו את הסדר הטיעון שנקשר בין הצדדים, גזר בית המשפט המחוזי את עונשו של המערער ל-44 חודשי מאסר בעבירות שבהן הורשע, מתוכם 20 חודשים לריצוי בפועל והיתרה על-תנאי. כן הוסיף בית-המשפט והורה על הפעלת המאסר המותנה בן 12 החודשים במצטבר לעונש אשר הוטל על-ידו. סך-הכל אפוא הוטלו על המערער 32 חודשי מאסר בפועל, כאמור בהסדר הטיעון (בחלופה שלפיה המאסר המותנה הינו בר-הפעלה). כן הטיל בית-המשפט על המערער קנס בסך 2,500 ש\"ח, בהדגישו את הדחף הממוני אשר עמד ביסוד עבירות הסמים מסוג אלו שהמערער הורשע בהן. בית-המשפט קבע כי הקנס ישולם בחמישה תשלומים חודשיים החל ביום 1.8.04, בהוסיפו כי אם לא ישולם הקנס ירצה המערער שישה חודשי מאסר נוספים תמורתו. טענות המערער 7. טענתו העיקרית של המערער מופנית כנגד הפעלת המאסר המותנה. לגירסתו, קבעה ההלכה הפסוקה כי המיבחן להפעלתו של תנאי הינו מיבחן היסוד העובדתי שבעבירה, דהיינו: עד שעבירה תביא להפעלתו של תנאי שבמאסר על-תנאי, עליה לקיים, למיצער, את כל יסודותיה של עבירת התנאי. לפיכך, כך מוסיף וטוען המערער, שגה בית-המשפט המחוזי בקובעו כי המאסר על-תנאי בר הפעלה הוא, שכן העבירה שבה הורשע אינה מקיימת את יסודותיה של עבירת התנאי. כיצד כך? הנה-כי-כן, העבירה שהורשע בה בענייננו עתה עבירה היא של החזקת סם שלא לצריכה עצמית - החזקה \"מסחרית\" (לפי סעיף 7(א) יחד עם סעיף 7(ג) רישה לפקודת הסמים) - ואילו עבירת התנאי היתה עבירה של החזקת סם לצריכה עצמית בלבד (לפי סעיף 7(א) יחד עם סעיף 7(ג) סיפה), דהיינו: היתה זו החזקה \"אישית\". עבירת התנאי, כך טוען המערער, מורכבת משני יסודות מצטברים: האחד - \"החזקת סם\", והשני - והוא תכליתה של ההחזקה - \"לשימוש עצמי\"; ומכיוון שהעבירה הנוכחית בה הורשע, עבירה היא של החזקה שלא לשימוש עצמי, ממילא אין היא מקיימת את אחד היסודות של עבירת התנאי, היסוד של תכלית ההחזקה - \"לשימוש עצמי\". לעניין זה מדגיש המערער כי הרשעתו בפרשה הנוכחית הסבה עצמה על החזקת סם בכמות של כ-65 ק\"ג, ואין מחלוקת כי סם זה הוחזק בידו לצורך הפצתו ולא לשימושו העצמי, דהיינו: תכלית ההחזקה בסם - למטרת מסחר ושלא לשימוש עצמי - הוכחה מתוך עובדות כתב האישום, ולפיכך לא ניתן לומר כי הסם הוחזק בידו גם למטרת שימושו העצמי. 8. לחיזוק טענותיו מוסיף המערער ומציין את המגמה הקיימת כיום בפסיקת בתי-המשפט, לצמצם את היקף התנאים הנקבעים בגזרי-דין במאסרים על-תנאי, וזאת נוכח שיקול-הדעת המצומצם שיש להם לבתי-המשפט בבואם להפעיל תנאי שנקבע בגין עבירה נוספת שנעברה. מגמה זו יש בה, לדעת המערער, כדי להצביע על הצורך בפירוש דווקני ומצמצם של עבירת התנאי. בהמשך לכך מוסיף המערער וטוען, כי המגמה המצמצמת חייבת למצוא ביטוי גם במתן פירוש מצמצם לכוונתו של בית-המשפט לעת שקבע את התנאי, ולפיכך לא ניתן לקבל את קביעתו של בית המשפט המחוזי כי כוונתו של בית המשפט שקבע את התנאי היתה להזהיר את המערער גם מפני החזקת סם בכמות גדולה שאינה מיועדת לצריכה עצמית. עוד טוען המערער כי בכל מקום שבו קיים ספק לגבי חלותו של מאסר על תנאי, פועל הספק לטובתו של הנאשם. דיון 9. הלכה שמכבר היא, כי המיבחן הקובע להשוואה בין עבירת-תנאי שבמאסר על-תנאי לבין עבירה שנטען עליה כי נופלת היא בגידרי התנאי, מיבחן מהותי-ענייני הוא, להבדילו ממיבחן פורמלי-טכני. הלכה זו נקבעה לפני שנים רבות, וכפי שנפסק בפרשת ע\"פ 49/80 עמוס מסילתי ואח\\' נ\\' מדינת ישראל, פ\"ד לד (3) 808, 811 (מפי השופט ברק): ... המבחן להפעלת התנאי אינו מבחן טכני-פורמלי אלא מבחן מהותי-עניני. השאלה אינה אינה אם הנאשם הועמד לדין והורשע בעבירה המפורטת בתנאי (התנאי \"גניבה\" - ההרשעה \"גניבה\"), אלא השאלה היא אם התנהגותו הפלילית של הנאשם (עליה הועמד לדין והורשע) מקיימת את היסודות של עבירת התנאי. ... ... ההשוואה הראויה אינה בין יסודות עבירת התנאי כפי שהיא מופיעה בספר החוקים, לבין יסודות העבירה בה הורשע הנאשם, כפי שהיא מופיעה בספר החוקים. ההשוואה הראויה היא בין יסודות עבירת התנאי כפי שהיא מופיעה בספר החוקים, לבין היסודות המתקיימים בהתנהגותו של הנאשם, כפי שהורשע עליהם, הלכה למעשה. ראו עוד דברי השופטת פרוקצ\\'יה בע\"פ 1867/00 מדינת ישראל נ\\' אבי גוטמן, פ\"ד נד (3) 145, 151: הטעם להלכה זו נעוץ במטרה העונשית שביסוד המאסר על-תנאי, קרי: התנאי יופעל אם הנאשם חזר לסורו ועבר שוב את עבירת התנאי, כאשר למושג זה ניתנת פרשנות המבקשת לכלול בתוכו את אותו סוג התנהגות אשר הענישה המותנית הקודמת התכוונה לאסור ואשר מפניו ביקשה להרתיע. בקביעתה של ההלכה כפי שנקבעה, ביקשו בתי-המשפט, כאמור, לקבוע מיבחן מהותי-ענייני ולירחק ממיבחן טכני-פורמלי; ואילו המערער מבקשנו עתה לפרש את המיבחן שנקבע באורח טכני המנוגד לרוח שהפיחה בו חיים. 10. על רקע זה הבה נבחן את עניינו של המערער. אך תחילה נצטט במלואן את הוראות הסעיף 7(א) ו-(ג) לפקודת הסמים: החזקה ושימוש 7. (א) לא יחזיק אדם סם מסוכן ולא ישתמש בו, אלא במידה שהותר הדבר בפקודה זו או בתקנות לפיה, או ברשיון מאת המנהל. (ב) ............ (ג) העובר על הוראות סעיף זה, דינו - מאסר עשרים שנים או קנס פי עשרים וחמישה מן הקנס האמור בסעיף 61(א)(4) לחוק העונשין, תשל\"ז–1977, ואם החזיק בסם או השתמש בו לצריכתו העצמית בלבד, דינו - מאסר שלוש שנים או קנס כאמור בסעיף 61(א)(4) לחוק העונשין, תשל\"ז–1977. ... 11. עיון מקרוב בהוראת סעיף 7 שלפקודת הסמים ילמדנו כך: הוראת סעיף 7(א) עניינה הוא בהחזקת סם מסוכן בלא היתר - הא ותו לא. אין היא מדברת לא בהחזקה \"לצריכה עצמית\" ולא בכל החזקה אחרת שהיא. המדובר הוא אך בהחזקה על דרך הסתם. מוסיף על כך וקובע סעיף 7(ג) רישה, כי העונש על עבירה של החזקת סם כאמור בפיסקה (א) הוא עשרים שנות מאסר וכו\\', ואילו אם החזיק פלוני בסם או השתמש בו \"לצריכתו העצמית בלבד\" - כהוראת סעיף 7(ג) סיפה - כי-אז צפוי הוא לעונש מאסר בן שלוש שנים וכו\\'. 12. עבירת הסמים שבהוראות סעיף 7(א) ו-(ג) לפקודת הסמים, ניתנת לשני פירושים שונים המוציאים זה-את-זה. פירוש אחד - ובו תומך המערער - מורנו כי בהוראת סעיף 7 נחבאות שתי עבירות שונות: האחת, עבירה של החזקת סם שלא לצריכה עצמית והעונש הקבוע בצידה הוא עשרים שנות מאסר, והאחרת, עבירה של החזקת סם לצריכה עצמית, והעונש הקבוע בצידה הוא שלוש שנות מאסר. כל אחת מעבירות אלו, היסודות המרכיבים אותה שונים הם מהיסודות המרכיבים את רעותה: זו עניינה החזקת סם לצריכה עצמית וזו עניינה החזקת סם שלא לצריכה עצמית, ומכאן שאין בכוחה של עבירה שניה לחלט תנאי הנסוב על עבירה ראשונה. גירסה זו לפרשנות נדחה מעלינו. המערער אינו דק פורתא בהבחנה כשהוא מבקש להבחין בין שתי עבירות שונות השוכנות בתוככי סעיף 7 לפקודת הסמים, ולו משום שהוראת סעיף 7 אינה מדברת כלל בעבירה של החזקת סם \"שלא לצריכה עצמית\". המושג החזקת סם \"שלא לצריכה עצמית\" אינו אלא ביטוי אקסטרה-משפטי השגור על-פיהם של עורכי-דין ובתי-משפט, להבדילו ולהבחינו מהחזקה \"לצריכה עצמית בלבד\", וללמדנו כי מכוונים הם לרישה שלסעיף 7(ג). אלא שביטוי זה, באשר הוא, הגם שיש בו תועלת של מעשה בשיח המשפטי, אין הוא נושא עימו כל בשורה ואין הוא מעיד על כל מהות. 13. דרך הפרשנות האחרת תלמדנו - וזו אחת מן החלופות שבא-כוח המדינה הצביע עליה - כי סעיף 7 לפקודת הסמים עניינו הוא אך בעבירה אחת - עבירה אחת בלבד - והיא העבירה של החזקת סם מסוכן שלא בהיתר. על-פי תפיסה זו, אסר המחוקק על החזקה של סם (שלא בהיתר) בכל דרך וצורה שהן, ולכל מטרה שהיא, והתכלית שלשמה מוחזק הסם בידי העבריין אינה יסוד מיסודות העבירה. ההוראה שבסיפה שלסעיף 7(ג) לא נועדה להוסיף רכיב ליסוד העובדתי של העבירה לעניין ההרשעה, וכל ייעודה אינו אלא לקבוע נסיבה מקלה לעניין העונש, דהיינו: לאחר הרשעה ולעת שבית-המשפט גוזר את עונשו של המורשע בדינו. אין הוראה זו רלוונטית לקביעת מהותה של ההרשעה, ולפיכך אין מן הבחינה המהותית כל הבדל בין הרשעה על-פי הרישה שלסעיף 7(ג) לפקודה לבין הרשעה על-פי הסיפה שלו: כזו-כן-זו השתיים עניינן בהחזקת סם מסוכן בלא היתר. ראו גם: י\\' קדמי, על פקודת הסמים המסוכנים (מהדורה מעודכנת, תשנ\"ז-1997), 103. אם כך נפרש את הוראת סעיף 7, מסקנה נדרשת מאליה היא, שתנאי במאסר על-תנאי כי נקבע על-ידי בית-המשפט ולא סויג במפורש - מחיל עצמו התנאי על עבירת ההחזקה האחת והיחידה הקבועה בסעיף 7 לפקודת הסמים. אשר-על-כן, השימוש בביטויים מתארים כ\"החזקה שלא לצריכה עצמית\" ו\"החזקה לצריכה עצמית בלבד\", אך יוצר אשלייה כי מדובר הוא בשתי עבירות. מן הבחינה המהותית ניצבת לפנינו עבירה אחת בלבד שלעניין העונש מתפצלת היא לשני ראשים. משידענו כך, והואיל ובית-משפט השלום ברחובות - אשר הטיל על המערער את המאסר על-תנאי - לא סייג את התנאי במפורש למצב שבו יחזיק המערער בסם לצריכתו העצמית בלבד - המסקנה המתבקשת היא, כי העבירה שעבר המערער בפרשה שלפנינו עבירה זהה היא - לשאלת חילוטו של התנאי - לעבירה אשר בגינה הוטל המאסר על תנאי. בדין אפוא הפעיל בית-המשפט המחוזי את התנאי. לשון אחר: המערער הורשע בעבירת התנאי בהחזקת סם; עתה הורשע שוב בעבירה של החזקת סם; ומכאן שעבירה שניה חילטה את התנאי שנקבע בעבירה הראשונה. 14. דרך שלישית לפרש את הוראותיו של סעיף 7 לפקודת הסמים היא - וגם זו אחת מדרכי הפרשנות המוצעת בידי המדינה - לראותו כמכיל שתי עבירות שונות, האחת שעונשה עשרים שנות מאסר והאחרת שעונשה שלוש שנות מאסר בלבד. אלא שדיוק בלשונו של הסעיף יביאנו למסקנה שונה מזו שהסיק המערער באשר ליסודותיהן של העבירות. הנה-כי-כן, סעיף 7(א) עניינו במחזיק סם מסוכן שלא בהיתר. על דרך הפשט, כולל מושג המחזיק במקום זה כל מחזיק שהוא, בין מחזיק לצריכה עצמית בין מחזיק לכל מטרה אחרת ובלבד שהחזיק בסם. בהמשך לכך, קובעת הסיפה שלסעיף 7(ג), כי העונש המופחת יחול במקרה שבו העבריין \"החזיק בסם .. לצריכתו העצמית בלבד\". וכך, בעוד שהרישה לסעיף 7(ג) מדברת בהחזקת הסם לכל מטרה שהיא - ואין נפקה מינה מהי אותה מטרה - מדברת הסיפה בסוג מסוים של החזקה - החזקה לצריכה עצמית בלבד. לפיכך, גם אם נקבל את טענת המערער כי בשתי עבירות נפרדות עסקינן, הנה היסוד העובדתי של העבירה שברישה - החזקה \"לכל מטרה שהיא\" - כולל בהכרח גם החזקה למטרה המסוימת של החזקה לצריכה עצמית. לשון אחר: העבירה שברישה כוללת על-פי עצם הגדרתה, ובהסתמך על פירוש לשוני של הוראת הסעיף, את היסודות העובדתיים של העבירה שבסיפה. 15. אכן, כלל הפרשנות המוכר שלפיו \"השלם כולל את החלק\", או: בכלל מאתיים - מנה (Omne Majus Continet In Se Minus) (השוו: רע\"פ 1127/93 מדינת ישראל נ\\' קליין, פ\"ד מח (3) 485, 510) זוכה למישנה תוקף, שכן מבחינה מילולית מתפוגג כל ספק כי העבירה שעבר המערער - החזקה בכמות סם בת עשרות קילוגרמים - כוללת בתוכה עבירה פעוטה יותר שעניינה החזקת סם בכמות קטנה. אין כל ספק, אפוא, כי החזקת כמות גדולה של סם בכוחה להפעיל את התנאי שנקבע בגין החזקת כמות קטנה הימנה. יתר-על-כן: קבלת עמדתו של המערער תביאנו לכלל אבסורד: שאילו עבר המערער עבירה של החזקת סם לצריכה עצמית בלבד היה מחולט המאסר על-תנאי, ואילו אם - כבענייננו - עבר עבירה של החזקת כמות גדולה של סם למטרה מסחרית - והיא עבירה חמורה בהרבה - או-אז לא יחולט המאסר על תנאי. הייתכן? 16. לענייננו עתה לא נכריע בין דרך הפירוש השניה לבין דרך הפירוש השלישית, וימים יגידו. 17. אכן, אין בליבנו ספק כי מבחינה מהותית-עניינית ביקש בית-המשפט להזהיר את המערער לבל ישוב ויחזיק בסם מסוכן לכל מטרה שהיא - לצריכתו העצמית, קל-וחומר - למסחר ולהפצה. וכך, בהחזיקו סם מסוכן בכמות של 65 ק\"ג הוכיח המערער כי לא למד לקח, הפר את התנאי שקבע בית-המשפט והחמיץ את ההזדמנות שניתנה לו. לפיכך רשאי היה בית-המשפט המחוזי - רשאי היה אף חייב - להפעיל את המאסר המותנה שהיה תלוי נגד המערער. 18. להסיר ספקות נוסיף, כי אין בכל האמור לעיל - בין בדרך הפרשנות האחת בין בדרך הפרשנות האחרת - כדי לגרוע מיכולתו של בית משפט המטיל עונש מאסר על תנאי לסייג במפורש את התנאי ולקבוע כי התנאי יחול אך ורק במקום שהעבריין יחזיק בסם לצריכה עצמית בלבד (הגם שנתקשה לשער מקרה מעין זה); ולהיפך: כי התנאי יחול רק במקום שהעבריין יחזיק בסם למטרה מסחרית אך לא לשימושו העצמי. ראו והשוו: ע\"פ 185/87 אליהו לנקרי נ\\' מדינת ישראל (לא פורסם). ואולם במה דברים אמורים, במקום שבו טרח בית-המשפט ופירש על איזו החזקה יחול התנאי ועל איזו החזקה לא יחול. בענייננו לא פירש זאת בית-המשפט בגזר הדין ולא הגביל מפורשות את התנאי למעשה של החזקת סם לצריכה עצמית בלבד. בנסיבות העניין גם לא מצאנו כל סיבה לקביעת סייג כזה לתנאי: למערער עבר מכביד של עבירות רכוש וסמים, ואין ספק כי מטרתו של התנאי היתה למנוע מן המערער להחזיק בסמים הן לצריכה עצמית הן למטרות מסחר. לא ראינו בנסיבותיו של המערער מטרה שיקומית אשר יכולה היתה להניע את בית-המשפט במשפט הראשון להגביל את התנאי לעבירה של החזקת סם לצריכה עצמית בלבד. 19. עתה, משאמרנו דברים שאמרנו, נוסיף, כי יש שנלמד מכללא על כוונה לצמצם תנאי שבמאסר על-תנאי גם אם לא נאמרו דברים במפורש. כך, למשל, במקום שפלוני הורשע בעבירה של החזקת סמים למטרת מסחר; נגזר עליו עונש מאסר על-תנאי \"בגין העבירה שהורשע בה\"; ולימים, בתוך תקופת התנאי, עבר עבירה של החזקת סמים, זו הפעם \"לצריכתו העצמית בלבד\". בהיעדר אינדיקציה אחרת, לכאן או לכאן, הייתי נוטה לפרש את התנאי כמחיל עצמו אך על החזקת סמים למטרת סחר שכן פירוש אחד היה נראה קשה ואפשר אף אכזר. למותר לומר שלא כן דין בענייננו. 20. נמצא לנו, אפוא, כי בין כך ובין אחרת, בדין קבע בית המשפט המחוזי כי המאסר על תנאי מאסר בר-הפעלה הוא, ולא נמצאה לנו עילה להתערב בקביעתו זו. תשלום הקנס שהושת על המערער 21. נוסף על עונש המאסר הטיל בית-המשפט על המערער קנס בסך 2,500 ש\"ח, לתשלום בחמישה תשלומים חודשיים החל ביום 1.8.04. בטיעוניה על-פה לפנינו ובסיכומים בכתב שהגישה לנו ביקשה באת-כוחו של המערער לדחות את מועד תשלום הקנס אשר הושת על המערער, ולחלופין, להפחית את תקופת המאסר שקבע בית-המשפט המחוזי חלף הקנס. לטענתה, העיד המערער נגד אחד המעורבים בפרשה - האסיר בכלא עתלית אשר יזם את העברת הסמים - ועדות זו עלתה למשפחתו באיומים רבים אשר הביאו את המשפחה להעתקת מקום מגוריה בניסיון להימלט מן המאיימים. משפחת המערער נקלעה אפוא לקשיים כלכליים אשר לא איפשרו למערער לשלם את הקנס עד כה, ולפיכך נתבקשה דחייתו של מועד התשלום או קיצור תקופת המאסר חלף הקנס. 22. לא ניעתר לבקשתו זו של המערער הואיל ולא נמצאה לנו עילה ראויה לדבר. יתר-על-כן: המערער עשה דין לעצמו ובחר שלא לשלם את הקנס שהוטל עליו במועד שנקבע לכך, וכך חדל חרף ההקלה שבית-המשפט המחוזי הקל עימו בפצלו את הקנס לתשלומים. המערער לא שילם ולו אחד מן התשלומים. כאמור בסעיף 5ב(א) לחוק המרכז לגביית קנסות, אגרות והוצאות, תשנ\"ה-1995, יכול היה המערער לפנות למרכז לגביית קנסות בבקשה לדחות את מועד תשלום הקנס, או לפורסו לתשלומים נוחים יותר. אלא שהמערער לא טרח לעשות כן במשך הזמן שחלף מיום מתן גזר-הדין ועד הנה. לא זו אף זו: הודעת הערעור הוגשה לבית-המשפט העליון ביום 1.8.04 (הערעור הוגש לבית-המשפט המחוזי בתל-אביב-יפו ימים אחדים קודם לכן), הוא היום שבו היה המערער אמור לשלם את התשלום הראשון של הקנס שהושת עליו. חרף זאת לא כללה הודעת הערעור כל התייחסות לעניין הקנס. המערער לא ביקש להפחית את גובה הקנס או לדחות את מועד תשלומו, וממילא לא ביקש לעכב את ריצוי עונש המאסר שהוטל עליו חלף הקנס עד להכרעה בעניין זה. המערער החל אפוא מרצה את המאסר חלף הקנס לכל המאוחר ביום 1.12.04, עם חלוף המועד לתשלום האחרון של הקנס שנגזר עליו, וזאת בהתאם להוראת סעיף 46 לחוק העונשין. לעת הזו אפוא סיים המערער זה מכבר את ריצוי המאסר חלף הקנס. אשר לאורך תקופת המאסר שהמערער מבקש את קיצורה, לא מצאנו עילה להתערב באורך תקופת המאסר חלף הקנס שקבע בית-המשפט המחוזי בגזר-דינו. 23. סוף דבר: אנו דוחים את הערעור על שני חלקיו. המישנה לנשיא השופטת א\\' פרוקצ\\'יה: אני מסכימה. ש ו פ ט ת השופט ס\\' ג\\'ובראן: אני מסכים. ש ו פ ט הוחלט כאמור בפסק-דינו של המישנה לנשיא מ\\' חשין. היום, ד\\' בשבט תשס\"ו (2.2.2006). המישנה לנשיא ש ו פ ט ת ש ו פ ט', 'document_body_english': 'In the case of Appellant Yaron Telmi v. State of Israel at the Israeli Supreme Court, the appellant was convicted in the Tel Aviv District Court for possession of a controlled substance not for personal use and attempted drug trafficking under sections 7 and 13 of the Dangerous Drugs Ordinance (New Version), 1973 and section 25 of the Penal Law, 1977 respectively. The appellant was sentenced to a suspended prison term for the first offense. Later, he was convicted again for possession of a controlled substance not for personal use. The question arises whether the suspended sentence should be revoked in light of the second conviction. This is the issue we will address in our decision. The appellant\\'s main arguments were that the suspended sentence should not be revoked because he had no prior criminal record, and that the court did not consider his personal circumstances when sentencing him. The State argued that the suspended sentence should be revoked due to the seriousness of the second offense and the fact that the appellant was a repeat offender. The Supreme Court ruled that the suspended sentence should be revoked because the appellant had committed another drug-related offense, which constituted a breach of the conditions of his probation. The court noted that the appellant\\'s personal circumstances were taken into account when he was sentenced for the first offense, and that the suspended sentence was intended to give him a chance to rehabilitate himself. However, the court concluded that the appellant had not taken advantage of this opportunity and had instead committed another drug-related offense. Therefore, the Supreme Court upheld the decision of the District Court to revoke the suspended sentence and impose an actual prison term on the appellant.  In the third count of the indictment, it is alleged that one day, an inmate at Atlit Prison asked the appellant to transfer a dangerous drug to others. Following this instruction, the appellant contacted another individual and arranged a meeting for the transfer. The appellant then met with this person, who handed him five bags containing 64.82 kilograms of cannabis. The appellant hid these bags in one location. Later, the inmate instructed the appellant to divide the drug into smaller amounts for distribution, but before he could carry out this instruction, the appellant was arrested by police.  In the case at hand, when committing the aforementioned acts, the appellant was subject to a suspended sentence of 12 months imposed in T.P. 2328/01 (Shalom, Rehovot). In that case, the appellant was convicted of a series of offenses, including possession of a controlled substance for personal use, as defined under Section 7(a) and (c) of the Dangerous Drugs Ordinance. The court determined that the suspended sentence would be that the appellant \"shall not commit the offenses in which he was convicted today.\"  5. The parties disagreed on the court\\'s authority to order the forfeiture of the suspended sentence, and therefore their agreed plea bargain included two options regarding the punishment: if the court determines that the suspended sentence is enforceable, then the appellant will be sentenced to 32 months in prison (including activation of the suspended sentence), while if the court determines that the suspended sentence is not enforceable, then the appellant will be sentenced to 26 months in prison.  The Israeli District Court determined that the suspended sentence of imprisonment is a valid and enforceable one, stating that \"there is no doubt that the test for activating a suspended sentence is a substantive-substantial test, rather than a technical-formal test, as established in several cases decided by the Supreme Court... It seems that the intention behind imposing a suspended sentence of imprisonment is to warn the defendant against possessing an illegal drug in an amount sufficient for personal use, and all the more so when this warning applies to possessing a much larger quantity which creates a presumption that it was not intended for personal use. It cannot be accepted that such a warning does not require the defendant to refrain from committing any offense of drug possession, whether for personal use or otherwise.\" Based on this reasoning, and adopting the plea bargain reached between the parties, the District Court sentenced the appellant to 44 months\\' imprisonment for the offenses he was convicted of, with 20 months to be served in prison and the remainder suspended. The court also ordered that the 12-month suspended sentence be activated concurrently with the sentence imposed by it. Thus, a total of 32 months\\' imprisonment were imposed on the appellant, as per the plea bargain (in the alternative where the suspended sentence is enforceable). In addition, the court ordered that the appellant pay a fine of NIS 2,500, emphasizing the financial motive behind the drug offenses for which he was convicted. The fine was to be paid in five monthly installments starting on August 1, 2004, with the court noting that if the fine is not paid, the appellant will serve an additional six months\\' imprisonment in its place.  The main argument of the appellant is directed against the activation of the suspended sentence. According to his claim, established case law determines that the test for activating a condition is the factual basis of the offense, meaning that until an offense brings about the activation of a suspended sentence condition, it must at least meet all the elements of the condition offense. Therefore, the appellant argues that the district court erred in determining that the suspended sentence condition was activated because the current offense he was convicted of does not satisfy the elements of the condition offense. How so? The current offense is a possession offense without personal use (according to Section 7(a) together with Section 7(c)(1) of the Drugs Ordinance), while the condition offense was a possession for personal use only (according to Section 7(a) together with Section 7(c)(2)), meaning that it was a “personal” possession. The condition offense, according to the appellant, consists of two cumulative elements: one - “possession of a drug,” and the second - which is the purpose of the possession - “for personal use.” Since the current offense he was convicted of is not for personal use, it does not satisfy one of the elements of the condition offense, the element of the purpose of the possession - “for personal use.”  For this matter, the appellant emphasizes that his conviction in the current case was based on possession of a drug amounting to approximately 65 kilograms, and there is no dispute that this drug was held by him for distribution purposes rather than personal use. In other words, the purpose of holding the drug - for commercial purposes and not for personal use - was proven through the facts of the indictment, so it cannot be said that the drug was also held for his own personal use.  In the case of the appellant, he additionally emphasizes the current trend in court rulings to narrow the scope of conditions set in suspended sentences due to the limited discretionary power that judges have when activating a condition for an additional offense committed. This trend, according to the appellant, indicates the need for strict and limiting interpretation of the conditional offense. Furthermore, he argues that this trend should also find expression in interpreting the intention of the court when setting the condition, meaning that it cannot be accepted that the court\\'s intention was to warn the appellant against possessing a large amount of drugs not intended for personal use. The appellant further claims that wherever there is doubt about the applicability of a suspended sentence, this doubt should work in favor of the defendant. The principle that the determining factor for comparing the conditional offense with the offense claimed to fall within the scope of the condition is a substantive-substantial one, rather than a technical-formal one, has been established long ago. As stated in the case of APP 49/80 Amos Masilati and others v. The State of Israel, PD 37 (3) 808, 811 (by Justice Barak): ... The condition for activating a suspended sentence is not a technical-formal one but a substantive-substantial one.  The question is not whether the defendant was charged and convicted of the specified offense (the condition \"theft\" - the conviction \"theft\"), but rather, the question is whether the defendant\\'s criminal behavior (for which they were charged and convicted) meets the elements of the condition offense. ... ... The appropriate comparison is not between the elements of the condition offense as it appears in the statute book, and the elements of the offense for which the defendant was convicted, as it appears in the statute book. Rather, the appropriate comparison is between the elements of the condition offense as it appears in the statute book, and the elements that exist in the defendant\\'s criminal behavior, as they were convicted of them in practice. See further Justice Procaccia\\'s words in State of Israel v. Av Gutman, P.D. 43 (5) 145, 151: \"The reason for this rule lies in the penal purpose behind conditional imprisonment, namely that the condition will be activated if the defendant returns to his ways and commits the same offense again, when the meaning of this is given a construction which seeks to include within it the same type of behavior which the previous conditional imprisonment sought to prohibit and from which it sought to deter.\" In establishing this rule as it was established, courts sought to establish a substantive-contentious standard and to distance themselves from a technical-formal standard; while the appellant now seeks to interpret the standard in a technical manner that is contrary to the spirit that gave it life.  In accordance with this context, let\\'s examine the case of the appellant. However, first, I will quote in full the provisions of Section 7(a) and (c) of the Narcotics Ordinance: Possession and Use 7. (a) A person shall not possess a dangerous drug or use it, except to the extent that it is permitted by this ordinance or regulations made under it, or with a license from the Director General. (b) ... (c) Whoever violates the provisions of this section, shall be punished by imprisonment for twenty years or a fine twenty-five times the amount specified in Section 61(a)(4) of the Penal Law, 5737-1977, and if he possessed it or used it for his own consumption only, he shall be punished by imprisonment for three years or a fine as specified in Section 61(a)(4) of the Penal Law, 5737-1977. ...  The close examination of Section 7 of the Drugs Ordinance reveals that it deals with the possession of a dangerous drug without a permit, and nothing more. It does not mention \"for personal use\" or any other type of possession. The section only refers to simple possession. Additionally, Section 7(c) states that the punishment for such an offense is twenty years in prison, while if someone possesses or uses a drug \"only for their own consumption\" (as per Section 7(c)(b)), they can be sentenced to three years in prison.  The Hebrew text discusses the interpretation of a specific section (7(a) and (g)) in the Israeli Drug Laws, which can be translated as follows: 12. The drug offense described in Section 7(a) and (c) of the Drugs Ordinance can have two different interpretations that contradict each other. One interpretation, supported by the appellant, suggests that there are two separate offenses within this section: one is for possession of a controlled substance not for personal use, with a maximum sentence of twenty years imprisonment, and the other is for possession of a controlled substance for personal use, with a maximum sentence of three years imprisonment. Each offense has different elements from the other, as one relates to possession for personal use while the other relates to possession not for personal use. The appellant argues that these two offenses cannot be combined in a single confiscation order because they are separate offenses. However, this interpretation is rejected by the court. The appellant\\'s argument is not precise enough, as Section 7 of the Drugs Ordinance does not mention an offense for possession \"not for personal use.\" The phrase \"possession not for personal use\" is merely a common expression used in legal discourse to distinguish it from possession \"for personal use only,\" and it does not carry any specific meaning. While this expression can be useful in legal discussions, it does not reveal anything about the substance of the offense.  13. According to one of the alternative interpretations, we can learn that Section 7 of the Drugs Ordinance only concerns one offense - just one offense - which is the offense of unlawfully possessing a dangerous drug. This interpretation suggests that the legislature prohibited the possession of any type or form of drug (without permission), for any purpose whatsoever, and the purpose for which the drug was held by the offender is not an element of the offense. The provision in the end of Section 7(c) does not add a component to the factual elements of the offense for conviction purposes; rather, it only establishes a mitigating circumstance for sentencing purposes, meaning: after conviction and when the court imposes the sentence on the convicted person. This provision is irrelevant to determining the nature of the conviction, so there is no substantive difference between a conviction based on the beginning of Section 7(c) and one based on its end: both concern unlawful possession of a dangerous drug. See also: Y. Kedmi, On the Dangerous Drugs Ordinance (Revised Edition, 1997), p. 103. If we interpret Section 7 in this way, it is clear that any condition of probation that was not specifically limited by the court - applies to the single offense of unlawful possession of a dangerous drug as specified in Section 7 of the Drugs Ordinance. Therefore, the use of descriptive terms such as \"possession not for personal use\" and \"possession only for personal use,\" while creating an illusion that there are two offenses, is actually just one offense with two heads regarding sentencing.  Having known this, and since the Magistrate\\'s Court in Rehovot - which imposed the suspended sentence on the appellant - did not explicitly limit the condition to a situation where the appellant would possess the drug for his own personal consumption only, the logical conclusion is that the offense committed by the appellant in the present case is identical to the offense for which he received the suspended sentence. Therefore, it was rightly determined that the suspended sentence should be activated. In other words, the appellant was convicted of a conditioned offense of drug possession; now he has been convicted again of an unconditional drug possession offense; and thus, the second offense revoked the condition set in the first offense.  The Hebrew text can be translated as follows: 14. A third way to interpret the provisions of Section 7 of the Drugs Ordinance is - and this is one of the ways of interpretation proposed by the state - to see it as containing two different offenses, one with a punishment of twenty years in prison and another with a punishment of three years in prison only. However, a precise reading of the language of the section will lead us to a different conclusion regarding the elements of these offenses. Section 7(a) deals with holding a dangerous drug without permission. According to the plain meaning, this includes any holder, whether for personal use or for any other purpose, as long as they hold the drug. The continuation of Section 7(c) states that the reduced punishment will apply in the case where the offender \"held the drug...for his own personal consumption only.\" Thus, while the beginning of Section 7(c) speaks of holding the drug for any purpose whatsoever - and it does not matter which purpose - the end of the section deals with a specific type of holding - holding for personal use only. Therefore, even if we accept the appellant\\'s argument that two separate offenses are involved, the factual element of the offense in the beginning - holding \"for any purpose whatsoever\" - necessarily includes the specific factual element of the offense at the end: holding for personal use only. In other words, the offense in the beginning, by virtue of its own language and a linguistic interpretation of the section\\'s provisions, includes the elements of the offense at the end.  In Hebrew, there is a well-known principle of interpretation that states \"the whole includes the part,\" or in Latin, \"Omne Majus Continet In Se Minus\" (Every greater thing contains within it a lesser one). This principle is particularly relevant here because, from a linguistic perspective, any doubt about whether the offense committed by the appellant - possessing a large amount of drugs - includes a lesser offense of possessing a small amount of drugs is dispelled. There is no question that possession of a large quantity of drugs can activate the condition set for possession of a smaller amount. Moreover, accepting the appellant\\'s position would lead to an absurd result: If he had committed only the offense of personal use of drugs, his suspended sentence would be executed, but if - as in this case - he committed a much more serious offense of commercial drug possession, then his suspended sentence would not be executed. Is that possible? For our purposes now, we will not decide between the second interpretation and the third interpretation, and time will tell.  17. There is no doubt in our minds that, from a substantive perspective, the court intended to warn the appellant not to possess any dangerous drug for any purpose - for his own consumption, let alone for trade and distribution. Therefore, when he was found with 65 kilograms of drugs, the appellant proved that he had not learned his lesson, violated the condition set by the court, and missed the opportunity given to him. Thus, the District Court was - indeed it had to be - allowed to activate the suspended sentence that was hanging over the appellant\\'s head.  In this case, the Hebrew text is a legal opinion that discusses two possible interpretations of a suspended sentence for drug possession. The first interpretation suggests that the suspended sentence applies only to possession for personal use, while the second interpretation argues that it applies to both personal and commercial purposes. The author notes that either interpretation does not exclude the possibility of a court explicitly stating that the suspended sentence will apply only in cases of personal use or only in cases of commercial use. However, in this particular case, the court did not specify any such limitation, and there was no reason to do so given the defendant\\'s prior record of drug and property crimes. The author concludes that the suspended sentence likely applies to both personal and commercial possession of drugs.  19. Now that we have said what we have said, we will add that there are cases where we can learn implicitly about an intention to limit a condition of probation even if no specific words were spoken. For example, when someone is convicted of the crime of possessing drugs for sale; they receive a suspended sentence \"for the offense in which he was convicted\"; and later, during the period of suspension, they commit another crime of drug possession, this time \"for their own personal use.\" In the absence of any other indication, one way or the other, I would tend to interpret the condition as applying only to the possession of drugs for sale since a different interpretation would seem difficult and even cruel. Needless to say, that is not the case in our situation.  20. In any case, the Court of Appeal correctly determined that the suspended sentence is still in effect and not subject to revocation, and we find no reason to interfere with this determination. Payment of the fine imposed on the appellant 21. Additionally, the District Court ordered the appellant to pay a fine of 2,500 NIS, to be paid in five monthly installments beginning on August 1, 2004. During oral arguments and written submissions made before us, the appellant\\'s attorney requested that the payment deadline for the fine be postponed or that the prison term imposed by the District Court in lieu of the fine be reduced. She argued that the appellant testified against one of the other involved parties - a prisoner at Atlit Prison who initiated the drug transfer - and this testimony led to threats against his family, which prompted them to relocate in an attempt to escape their tormentors. The appellant\\'s family thus encountered financial difficulties that prevented him from paying the fine until now, and therefore requested either a postponement of the payment deadline or a reduction of the prison term in lieu of the fine.  The court did not grant the appellant\\'s request to reduce his sentence of imprisonment in lieu of a fine, as they found no appropriate reason for doing so. Moreover, the appellant chose not to pay the fine that was imposed on him by the specified date, and thus he ceased paying despite the leniency granted by the district court when it split the fine into installments. The appellant did not pay even one of these installments. As stated in section 5b(a) of the Debt Collection Center Law, 1995, the appellant could have applied to the Debt Collection Center for a delay in paying the fine or to split it into more manageable payments. However, he did not do so during the time that passed from the date of sentencing until now. Furthermore, the appeal was filed with the Supreme Court on August 1, 2004 (the appeal was submitted to the Tel Aviv-Jaffa District Court a few days earlier), which was also the day when the appellant should have paid the first installment of the fine imposed upon him. Despite this, the appeal did not include any reference to the fine. The appellant did not request a reduction in the amount of the fine or a delay in its payment, and therefore he did not ask for the imprisonment sentence to be suspended until the matter was resolved. Thus, the appellant began serving his prison term in lieu of the fine at the latest on December 1, 2004, when the final installment of the fine imposed upon him expired, according to section 46 of the Penal Code. At this point, the appellant has already completed serving his prison term in lieu of the fine. Regarding the length of the imprisonment sentence that the appellant seeks to reduce, we found no reason to interfere with the length of the imprisonment sentence in lieu of the fine determined by the district court in its judgment.  The final decision is to reject the appeal on both parts. The Deputy President Justice A. Procaccia agrees with this decision. Judge S. Joubran also agrees with this decision.', 'legal_refs': \"['61(א)(4)', '7(א)', '40075/04', '46', '185/87', '7176/04', '7', '49/80', '13', '5ב(א)', '1867/00', '1127/93', '7(ג)', '2328/01', '25']\", 'legal_refs_sparse_vec': '[0 0 0 0 0 0 0 0 0 0 0 0 0 0 0 0 0 0 0 0 0 0 0 0 0 0 0 0 0 1 0 0 0 0 0 0 0\\n 0 0 0 0 0 0 0 0 0 0 0 0 0 1 0 0 0 0 0 0 0 0 0 0 0 0 0 0 0 0 0 0 0 0 0 0 0\\n 0 0 0 0 0 0 0 0 0 0 1 0 1 0 0 0 0 0 0 0 0 0 0 0 0 0 0 0 0 0 0 0 0 0 0 0 0\\n 0 0 0 0 0 0 0 0 0 0 0 0 1 0 0 0 1 0 0 0 0 0 0 0 0 0 0 0 0 0 0 0 0 0 0 0 0\\n 0 0 0 0 0 0 0 0 0 0 0 0 0 0 0 0 0 0 0 0 0 0 0 0 0 0 0 0 0 0 0 0 0 0 0 0 0\\n 0 0 0 0 0 0 0 0 0 0 0 0 0 0 0 0 0 0 0 0 0 0 0 0 0 0 0 0 0 0 0 0 0 1 0 0 0\\n 0 0 0 0 0 0 0 0 0 0 0 0 0 0 0 0 0 0 0 0 0 0 0 0 0 0 0 0 0 0 0 0 0 1 0 0 0\\n 0 0 0 0 0 0 0 0 0 0 0 1 0 0 0 0 0 0 0 0 0 0 0 0 0 0 0 0 0 0 0 0 0 0 0 0 0\\n 0 0 0 0 0 0 0 0 0 0 0 0 0 0 0 0 0 0 0 1 0 0 0 0 0 1 0 0 0 0 0 0 0 0 0 0 0\\n 0 0 0 0 0 0 0 0 0 0 0 0 0 0 0 0 0 0 0 0 0 0 0 0 0 0 1 1 1 0 0 0 0 0 0 0 0\\n 0 0 1 0 0 0 0 0 0 0 0 0 0 0 0 0 0 0 0 0 0 0 0 0 0 0 0 0 0 0 0 0 0 0 0 0 0\\n 0 0 0 0 0 0 0 0 0 0 0 0 0 0 0 0 0 0 0 0 0 0 0 0 0 0 0 0 0 0 0 0 0 0 0 0 0\\n 0 0 0 0 0 0 0 0 0 0 0 0 0 0 0 0 0 0 0 0 0 0 0 0 0 0 0 0 0 0 0 0 0 0 0 0 0\\n 0 0 0 0 0 0 0 0 0 0 0 0 0 0]'}, page_content=\"Case Number: T.P. 2328/01\\n\\nCase Type: Criminal\\n\\nLegal Issues:\\n- Revocation of suspended sentence for subsequent drug offense\\n- Interpretation of drug possession laws under Dangerous Drugs Ordinance\\n- Applicability of suspended sentence conditions\\n\\nSummary of Facts:\\n- Appellant was initially convicted of drug possession for personal use\\n- Received suspended prison sentence for first offense\\n- Later arrested for possession of 64.82 kg cannabis\\n- Attempted to transfer drugs on instruction from prison inmate\\n- Subject to 12-month suspended sentence from previous conviction\\n- Plea bargain offered two sentencing options based on suspended sentence enforcement\\n- Failed to pay court-ordered fine of 2,500 NIS\\n\\nCourt Decision:\\n- Supreme Court upheld District Court's decision to revoke suspended sentence\\n- Total imprisonment of 32 months imposed\\n- Appeal rejected on all grounds\\n\\nRelevant Laws and Precedents:\\n- Dangerous Drugs Ordinance (New Version), 1973, Sections 7 and 13\\n- Penal Law, 1977, Section 25\\n- Case APP 49/80 Amos Masilati v. State of Israel\\n- State of Israel v. Av Gutman\\n- Debt Collection Center Law, 1995, Section 5b(a)\"),\n",
       " Document(metadata={'case_number': '3766/12', 'procedure_name': 'ע\"א 3766/12', 'case_date': '2012-06-17', 'case_link': 'https://supremedecisions.court.gov.il/Verdicts/Results/1/null/2012/3766/1/8/null/null/null', 'document_body': 'החלטה בתיק ע\"א 3766/12 בבית המשפט העליון בירושלים ע\"א 3766/12 - א\\' לפני: כבוד הרשמת דנה כהן-לקח המערערות: 1. פלונית 2. פלונית 3. פלונית 4. פלונית נגד המשיב: פלוני בקשה לסילוק הערעור על הסף ובקשה לפטור מאגרה ועירבון החלטה הערעור שבכותרת מופנה כנגד החלטת בית-המשפט לענייני משפחה בתל-אביב (כב\\' השופט בן-ארי) לפיה נדחתה בקשת המערערות לפסילת השופט מלשבת בדין. לפניי מונחות שתי בקשות: האחת, בקשת המשיב להורות על סילוק ערעור הפסלוּת שבכותרת על הסף בטענה כי הוּגש באיחור. והשנייה, בקשת המערערת 1 (להלן: המערערת) לפטור מתשלום אגרה ומהפקדת עירבון. אדון בבקשות אלה לפי סדרן. בקשת המשיב להורות על סילוק הערעור על הסף מחמת איחור בהגשתו 1. החלטת בית-המשפט לענייני משפחה לפיה נדחתה הבקשה לפסלות השופט הדן בעניינם של המערערת והמשיב, ניתנה ביום 24.4.2011 בהעדר הצדדים. עוד באותו היום, הגישה המערערת לבית-המשפט לענייני משפחה בקשה להפסקת הדיון בהליך העיקרי, בנימוק כי בדעתה לערער על ההחלטה בעניין הפסלות לפני בית-משפט זה. לטענת המשיב, הגשת הבקשה להפסקת הדיון ביום 24.4.2012 לבית-המשפט לענייני משפחה, מלמדת כי המערערת ידעה עוד באותו היום על ההחלטה בעניין הפסלות וכי ההחלטה היתה בידיה. בהתחשב בכך, טוען המשיב כי יש להתחיל בספירת עשרת הימים להגשת ערעור פסלות ביום שלמחרת (25.4.2012). לפי טענה זו, המועד האחרון לפי דין להגשת ערעור פסלות היה ביום 6.5.2012. ההליך שבכותרת הוגש ביום 13.5.2012, ולפיכך לטענת המשיב הוא הוגש באיחור של כשבוע ימים ויש להורות על מחיקתו מן המרשם. 2. המערערת, המיוצגת בהליך העיקרי המתנהל לפני בית-המשפט לענייני משפחה, הגישה בעצמה הן את הבקשה לפסלות השופט והן את ערעור הפסלות שבכותרת. לטענת המערערת בתגובתה ובתצהיר המשלים מטעמה, החלטתו של בית-המשפט קמא הדוחה את בקשת הפסלות, לא הומצאה לה או למשרד בא-כוחה בהליך העיקרי עובר ליום 10.5.2012. כיצד, אפוא, הגיעה ההחלטה הנדונה לידיה של המערערת? לפי הטענה, המערערת בדקה מדי יום במרכז המידע האם ניתנה החלטה בבקשת הפסלות שהגישה לבית-המשפט לענייני משפחה ביום 19.3.2012. ביום 24.4.2012 התברר למערערת כי באותו היום נתן בית-המשפט לענייני משפחה החלטה הדוחה את בקשת הפסלות. לטענת המערערת, נוכח המידע האמור היא הגישה לבית-המשפט קמא באופן מיידי בקשה להפסקת הדיון, וזאת עוד לפני שעותק של ההחלטה הומצא לידיה. בהמשך - כך לפי הטענה - פנתה המערערת מספר פעמים למזכירות בית-המשפט לענייני משפחה על-מנת שתשלח אליה בדואר עותק מההחלטה נשוא ההליך שבכותרת, אולם המזכירות לא עשתה כן. על רקע זה, נטען כי ביום 7.5.2012 שלחה המערערת שליח מטעמה והלה הביא לה עותק של ההחלטה ממזכירות בית-המשפט קמא. ימים ספורים לאחר מכן - ביום 13.5.2012 - הוגש הערעור שבכותרת. לטענת המערערת, מאחר שההחלטה בנוסחה המלא הגיעה לידיה רק ביום 7.5.2012, אין להתחיל את מניין עשרת הימים להגשת ערעור פסלות קודם לכן, שכן לפי הנטען לא יתכן לצפות מבעל-דין להגיש ערעור על החלטה בטרם נוסחהּ מצוי בידיו. בהתחשב בכך, עמדת המערערת היא כי הערעור הוגש במועד וכי אין להורות על מחיקתו על הסף. לשם שלמות התמונה אוסיף כי בעקבות טיעוני המשיב בתגובתו מיום 10.6.2012, התבקשה המערערת להגיש תגובה משלימה בנוגע לשאלה כיצד יתכן שלטענתה היא גילתה על מתן ההחלטה נשוא הערעור שבכותרת באמצעות בירור עם מרכז המידע ביום 24.4.2012, אם ההחלטה הנדונה פורסמה במערכת נט-המשפט באותו היום רק בשעה 16:46, ואילו מרכז המידע מסיים את עבודתו בשעה 16:00. על כך השיבה המערערת כי מוקד התמיכה הטכנית עובד עד שעה 20:00 וכי קיבלה את המידע באמצעותו. 3. שקלתי את טענות הצדדים. נקודת המוצא היא כי הכלל השולט בשיטתנו המשפטית הינו \"כלל ההמצאה\", בעוד \"כלל הידיעה\" הינו חריג השמור למקרים חריגים ויוצאי-דופן של חוסר תום-לב דיוני, השתק או מניעות (ראו: רע\"א 8467/06 אבו עוקסה נ\\' בית הברזל טנוס בע\"מ (לא פורסם, 8.7.2010) והאסמכתאות המובאות שם). הנטל להוכיח טענה בדבר חוסר תום-לב דיוני המצדיק להחיל את \"כלל הידיעה\", הוא על בעל-הדין המשיג על מועד ההמצאה בו נקב יוזם ההליך הערעורי (ראו: שם, בפיסקה 32). 4. המחלוקת בין הצדדים שלפניי הינה האם הוכח כי במקרה דנן מתקיימות נסיבות חריגות המצדיקות את העדפתו של \"כלל הידיעה\" על-פני \"כלל ההמצאה\". כפי שצוין לעיל, ביום בו ניתנה החלטתו של בית-המשפט לענייני משפחה לפיה נדחתה בקשת הפסלות, הגישה המערערת לבית-המשפט קמא בקשה להפסקת הדיון, במסגרתה נאמר כי בדעת המערערת לערער על ההחלטה הנדונה. ברי, אפוא, כי המערערת ידעה כבר אז על מתן ההחלטה, אולם לטענתה נוסח ההחלטה טרם הומצא לידיה באותו שלב. השאלה היא האם בנסיבות אלה היאחזותה של המערערת ב\"כלל ההמצאה\" עולה כדי חוסר תום-לב דיוני. לגישתי, יש להשיב על שאלה זו בשלילה. המערערת הסבירה כי בעקבות הבירור שערכה ביום 24.4.2012 היא ידעה על מתן ההחלטה שדחתה את בקשת הפסלות, אולם באותו שלב עותק מההחלטה טרם הומצא לידיה, ולפיכך לא יכלה לעיין בהחלטה ובנימוקיה. יצוין כי בדיקה של מזכירות בית-המשפט העלתה כי מוקד התמיכה הטכנית אמנם עובד עד השעה 20:00 וכי לא ניתן לשלול כי נמסר באמצעותו מידע למערערת בדבר עצם מתן ההחלטה בעניינה לאחר פרסומה בשעות הערב במערכת נט-המשפט. עוד יצוין כי הבקשה להפסקת הדיון שהגישה המערערת לבית-המשפט קמא נוּסחה באופן לאקוני ללא התייחסות לתוכן ההחלטה שדחתה את בקשת הפסלות או לנימוקיה. הדבר תומך בטענה כי אותה עת, ידיעתה של המערערת אודות ההחלטה נשוא ההליך שבכותרת היתה ידיעה חלקית בלבד, ונגעה לעצם מתן ההחלטה ותוצאתה אך לא לתוכנה. בהתחשב בכל אלה, אני סבורה כי לא הוכח שלמערערת היתה \"ידיעה מלאה, ספציפית וברורה של מלוא תוכן פסק הדין...\" כדברי כב\\' השופטת פרוקצ\\'יה בבש\"א 1788/06 קלינגר נ\\' זקס, פיסקה 9 (לא פורסם, 13.11.2007). בכך נבדל עניינה של המערערת ממקרים אחרים במסגרתם נקבע כי \"כלל הידיעה\" גובר על \"כלל ההמצאה\" בנסיבות חריגות בהן בעל-הדין אישר כי ההחלטה השיפוטית עליה רצה להשיג היתה בידיו בנוסחה המלא עוד לפני מועד ההמצאה בדרך הקבועה בתקנות, והוא אף צירף עותק מההחלטה להליך שיפוטי אחר אותו יזם (ראו והשוו: רע\"א 1113/97 אסמאעיל נ\\' סלימאן (לא פורסם, 6.4.1997); ע\"א 5016/00 בן יהודה נ\\' פקיד השומה גוש דן (לא פורסם, 23.1.2001)). יצוין כי השאלה האם מלכתחילה היה מקום להגיש לבית-המשפט קמא בקשה להפסקת הדיון בטרם המערערת עיינה בתוכן ההחלטה הנדונה ובנימוקיה, ובטרם ערכה המערערת בחינה מושכלת של שאלת הגשתו של ערעור על ההחלטה האמורה, אינה דורשת את הכרעתי (ראו והשוו: תקנה 471ג(א) רישא לתקנות סדר הדין האזרחי, התשמ\"ד-1984; להלן: התקנות). החשוב לצורך העניין שלפנינו הוא כי בהתאם לחומר שהובא לפניי, לא ניתן לשלול כי ביום 24.4.2012 ידיעתה של המערערת על ההחלטה נשוא ההליך שבכותרת היתה חלקית ונגעה לעצם מתן ההחלטה ותוצאתה אך לא לתוכן ההחלטה. בנסיבות אלה, אינני מוצאת הצדקה לסטות מכלל ההמצאה - שהוא הכלל הנוהג ברגיל בשיטתנו המשפטית - באופן שהמועד להגשת הערעור יימנה מרגע שההחלטה המלאה נמסרה לידיה. 5. חשוב לציין כי מתצהירה של המערערת עולה כי מרגע שנודע לה דבר מתן ההחלטה נשוא ההליך שבכותרת, היא פעלה בשקידה ראויה על-מנת להשיג עותק של ההחלטה, ואף שלחה שליח מטעמה למזכירות בית-המשפט קמא לצורך האמוּר. ימים ספורים לאחר מכן, הגישה המערערת את ההליך שבכותרת. אין מדובר, אפוא, בבעל-דין שבחר לשבת באפס מעשה במשך זמן ממושך, והשתמש בהעדר ההמצאה כאמתלה להגיש את הערעור לאחר פרק זמן ארוך במיוחד (ראו: רע\"א 8467/06 אבו עוקסה הנ\"ל, בפיסקה 29). מאמציה של המערערת להשיג עותק מההחלטה לאחר שנודע לה על דבר נתינתה, והעובדה כי הגישה את ההליך שבכותרת ימים ספורים לאחר שלפי הנטען ההחלטה נמסרה לידיה, מחזקים את המסקנה כי בנסיבות העניין לא הוכח שהופרה חובת תום-הלב הדיוני, וכי המערערת אינה מנועה או מושתקת מלהתבסס על כלל ההמצאה שהינו דרך-המלך בשיטתנו המשפטית. 6. סוף דבר; בהתחשב במכלול הטעמים שהובאו, לא מצאתי הצדקה לסטות מכלל ההמצאה, כך שיש למנות את התקופה להגשת ערעור הפסלות מהיום בו לפי הנטען נמסרה ההחלטה הנדונה לידיה של המערערת. בהתחשב בכך, הערעור שבכותרת הוגש במועדו והבקשה למחיקתו על הסף נדחית. בקשת המערערת לפטור מתשלום אגרה ומהפקדת עירבון 7. המערערת עתרה לפטור מתשלום אגרה, ומטענותיה עולה כי היא עותרת גם לפטור מהפקדת עירבון. יצוין כי המשיב הגיש תגובה מטעמו לבקשת הפטור, בלא שניתן היתר לכך (ראו: תקנה 465 לתקנות). אף-על-פי-כן, עיינתי בתגובת המשיב המתנגד לבקשת הפטור ובנימוקיו. 8. מהבקשה שהגישה המערערת ומהחומר שצורף לה עולה כי המערערת עובדת ומשתכרת לפרסנתה, אף כי שיעור משכורתה החודשית אינו גבוה, בוודאי בשים לב לכך שלמערערת שלוש בנות קטינות. יחד עם זאת, התשתית הראייתית אותה פרשה המערערת לפני בית-המשפט בנוגע ליכולתה הכלכלית הינה חלקית בלבד. כך למשל, נמנעה המערערת מלצרף דפי חשבון בנק כלשהם על-אף שהתבקשה לעשות כן בהחלטת כב\\' הרשם שני מיום 14.5.2012. לכך יש להוסיף כי מפירוט ההוצאות שהציגה המערערת ומתדפיסי הויזה שצורפו עולה לכאורה כי רמת חייה של המערערת אינה מתיישבת עם העדר יכולת כלכלית לשאת בתשלום אגרה ובהפקדת עירבון - ולוּ בסכומים מתונים. זאת, בשים לב לכך שהמערערת מחזיקה בטלפון נייד, משלמת עבור שירותי טלוויזיה בכבלים ורוכשת מוצרי ביגוד והנעלה. יוער כי בתצהיר המשלים מיום 4.6.2012 ציינה המערערת כי היא מממנת את ייצוגה בבית-המשפט לענייני משפחה בסיוע הוריה. המערערת טענה כי אין באפשרותה להוסיף ולהסתייע בהוריה במישור הכספי, אולם טענה זו הועלתה בעלמא. לא הוכח באמצעות פירוט ותיעוד מתאים כי אין באפשרותה של המערערת להסתייע בסביבתה הקרובה, לרבות בהוריה, לצורך הפקדת עירבון בהליך שבכותרת. לבסוף אציין כי עיינתי בהחלטתו של בית-המשפט לענייני משפחה, בהודעת הערעור ובנימוקיה ובאתי למסקנה כי סיכוייו הלכאוריים של ההליך שבכותרת אינם גבוהים במידה המטה את הכף לטובת פטור מהפקדת עירבון, שמשמעותו העדר מקור ודאי וזמין לגביית הוצאות המשיב בערעור במידה שייפסקו לטובתו. לשם שלמות התמונה ובהתייחס לטיעוני המשיב, אעיר כי ההליך שלפניי אינו מתאים לבירור טענותיו של המשיב בנוגע להברחת נכסים מצד המערערת. 9. נוכח מכלול הנימוקים שפורטו, אינני רואה לפטור את המערערת באופן מלא מתשלום אגרה ומהפקדת עירבון. יחד עם זאת, נוכח התשתית החלקית שהובאה לעניין המצב הכלכלי, אני רואה לקבוע כי המערערת תשלם אגרה מופחתת בסך 500 ש\"ח ותפקיד עירבון בסכום מתון בסך 3,500 ש\"ח תוך 14 ימים מעת המצאת החלטה זו. לא תשולם האגרה או לא יופקד העירבון במועד שנקבע, עלול ההליך שבכותרת להימחק או להירשם לדחייה, בהתאמה. בהמשך להחלטתי מיום 24.5.2012, המועד להגשת תגובת המשיב לערעור הפסלות כאמור בתקנה 471ג(ד) לתקנות, יימנה מעת הפקדת העירבון בתיק. אין צו להוצאות בהליך זה. ניתנה היום, כ\"ז בסיוון תשע\"ב (17.6.2012). דנה כהן-לקח, שופטת ר ש מ ת', 'document_body_english': 'The decision in Case A3766/12 at the Supreme Court of Israel concerns an appeal against a ruling by the Tel Aviv Family Court (Judge Ben-Ari) denying a request for disqualification of the judge presiding over the case between the appellants and respondent. The appellant has submitted two requests: one from the respondent to dismiss the appeal on the grounds that it was filed late, and another from Appellant 1 (the appellant) seeking a waiver of payment of fees and deposit. I will address these requests in order. The respondent\\'s request to dismiss the appeal for being filed late: The Family Court ruling denying the disqualification request was issued on April 24, 2011 without the parties present. On the same day, Appellant 1 submitted a request to the Family Court to suspend proceedings in the main case due to her intention to appeal the disqualification decision before this court. The respondent argues that Appellant 1 knew about the ruling on April 24, 2011 and had it in her possession. Given this, the respondent claims that the ten-day period for filing an appeal of disqualification should be counted from the following day (April 25, 2011). The appellant\\'s request for a waiver of payment of fees and deposit: The appellant requests a waiver of payment of fees and deposit.  According to this claim, the last date by law for filing a disqualification appeal was May 6th, 2012. The case at hand was filed on May 13th, 2012, and thus, according to the respondent, it was filed one week late and should be deleted from the record.  The appellant, who is represented in the main case being heard before the Family Court, filed both the petition for disqualification and this appeal of disqualification on her own behalf. In response to the respondent\\'s reply and supplemental affidavit, the appellant claims that the Family Court\\'s decision rejecting the disqualification request was not delivered to her or her attorney in the main case before May 10, 2012. How did she receive this decision? According to the appellant, she checked the court information center daily for a decision on her March 19, 2012 disqualification petition filed with the Family Court. On April 24, 2012, she discovered that the Family Court had issued a decision rejecting the disqualification request on that day. The appellant claims that because of this information, she immediately submitted to the Family Court a motion for the case to be halted, even before receiving a copy of the decision. Later, the appellant repeatedly contacted the Family Court clerk\\'s office to ask them to send her a copy of the decision in question, but they did not do so. On May 7, 2012, the appellant sent an emissary who retrieved a copy of the decision from the Family Court clerk\\'s office. A few days later, on May 13, 2012, this appeal was filed.  The appellant argues that since the full-text decision only reached her on May 7, 2012, the ten-day period for filing a disqualification appeal should not begin before then, as it is impossible to expect a party to file an appeal against a decision without having its text. Considering this, the appellant\\'s position is that the appeal was filed on time and there is no reason to dismiss it. To complete the picture, I will add that in response to the respondent\\'s arguments in his reply of June 10, 2012, the appellant was asked to submit a supplemental response regarding how it could be claimed that she discovered the decision subject to this appeal through an inquiry with the information center on April 24, 2012, if the decision at issue was only published in the Net-Hamishpat system at 4:46 p.m. on that day, while the information center closes its operations at 4 p.m., and the appellant responded that she received the information through technical support, which operates until 8 p.m.  In the Hebrew text, the main point is that in Israeli legal practice, \"the rule of delivery\" generally applies, while \"the rule of knowledge\" is a rare and exceptional exception reserved for cases of dishonest procedural conduct, estoppel or preclusion. The burden of proof to demonstrate dishonest procedural conduct justifying application of the \"rule of knowledge\" lies with the party challenging the date of delivery provided by the initiator of the appeal (see: RA\\'A 8467/06 Abu Okasa v. Beit HaBarzel Tanos Ltd. (unpublished, July 8, 2010) and the cited references therein).  The dispute between the parties before me is whether there are exceptional circumstances that justify the preference of \"the rule of knowledge\" over \"the rule of delivery.\" As previously mentioned, on the day when the Family Court issued its decision rejecting the petition for disqualification, the Appellant filed a request with the trial court to stop the proceedings, in which it was stated that she intended to appeal the decision at hand. It is clear, therefore, that the Appellant knew about the decision already then, but according to her, the text of the decision had not yet been delivered to her at that stage. The question is whether under these circumstances, the Appellant\\'s reliance on \"the rule of delivery\" amounts to a lack of procedural good faith. In my opinion, the answer should be no. The Appellant explained that after conducting an inquiry on April 24, 2012, she knew about the decision rejecting the petition for disqualification, but at that stage, a copy of the decision had not yet been delivered to her, and therefore, she could not review the decision and its reasoning. It should be noted that the technical support center operates until 8:00 p.m., and it cannot be ruled out that information was provided to the Appellant about the decision\\'s existence after its publication in the evening on the Net-Hamishpat system. Additionally, the request to stop the proceedings filed by the Appellant with the trial court was formulated succinctly without any reference to the content of the decision rejecting the petition for disqualification or its reasoning. This supports the claim that at that time, the Appellant\\'s knowledge about the decision under appeal was partial and related only to the fact of the decision and its outcome but not to its contents.  In light of all these factors, I believe that the Appellant has not proven that they had \"full, specific and clear knowledge of the full content of the judgment...\" as stated by Justice Procaccia in Bash\\'a 1788/06 Klinger v. Zaks, paragraph 9 (unpublished, November 13, 2007). In this way, the Appellant\\'s case differs from other cases where it was determined that \"the rule of knowledge\" prevails over \"the rule of delivery\" in exceptional circumstances where the defendant confirmed that the judicial decision they wanted to appeal was fully known to them in its full form before the date of delivery according to the regulations, and they even attached a copy of the decision to another legal proceeding initiated by them (see and compare: Raa 1113/97 Ismail v. Saliman (unpublished, April 6, 1997); CA 5016/00 Ben Yehuda v. Tax Assessor of the Tel Aviv District (unpublished, January 23, 2001)). It should be noted that whether or not it was appropriate to begin with to file a request for the cessation of proceedings before the Appellate Court prior to the Appellant reviewing the content of the decision in question and its reasoning, and conducting a careful examination of the question of filing an appeal on this decision, is not relevant to my decision (see and compare: Rule 471g(a) introductory clause of the Rules of Civil Procedure, 5744-1984; hereinafter: The Rules). What is important for the case at hand is that, according to the material presented before me, it cannot be ruled out that on April 24, 2012, the Appellant\\'s knowledge of the decision in question was partial and related only to the fact of the decision and its outcome but not to the content of the decision.  In these circumstances, I do not find justification to deviate from the general rule of service - which is the usual practice in our legal system - by having the deadline for filing an appeal counted from the moment that the full decision was delivered to her.  In the Hebrew text, it is stated that the appellant\\'s affidavit indicates that from the moment she learned about the decision in question, she acted with appropriate diligence to obtain a copy of the decision, and even sent an emissary on her behalf to the court clerk for this purpose. A few days later, the appellant filed the appeal at hand. This is not a case where the respondent chose to sit idle for a long period of time and used the lack of delivery as an excuse to file the appeal after a particularly long period of time (see: RA 8467/06 Abu Oksha, paragraph 29). The appellant\\'s efforts to obtain a copy of the decision after learning about its issuance, and her filing of the appeal shortly thereafter, strengthen the conclusion that in this case it has not been proven that the duty of good faith in procedure was violated, and that the appellant is not barred or estopped from relying on the rule of delivery, which is the preferred method in our legal system.  In response to the Hebrew text, I will provide a complete word-for-word translation without summarizing: 6. Conclusion; Considering all the reasons presented, I did not find justification for deviating from the general rule of service, so the period for filing an appeal against disqualification should be counted from the day when it is claimed that the decision in question was delivered to the hands of the appellant. Taking this into account, the appeal before us was filed on time and the request for deletion on the grounds of superfluousness is rejected. The appellant\\'s request for exemption from payment of a fee and deposit of collateral 7. The appellant has applied for an exemption from paying a fee, and from her arguments it appears that she also applies for an exemption from depositing collateral. It should be noted that the respondent filed a response on behalf of the request for exemption without permission (see: Rule 465 of the Rules). Nevertheless, I have reviewed the respondent\\'s response opposing the request for exemption and its reasons.  The appellant\\'s request and the accompanying material indicate that she is employed and earns a living, although her monthly salary is not high, especially considering that she has three minor daughters. However, the evidentiary foundation presented by the appellant regarding her financial ability is incomplete. For example, she did not attach any bank account statements despite being asked to do so in Judge Shani\\'s decision from May 14, 2012. Additionally, the expenses listed and the credit card statements submitted seem to contradict her claim of a lack of financial ability to pay the filing fee and deposit the security bond - even if it is only a moderate amount. This is especially true considering that she has a cell phone, pays for cable television services, and purchases clothing and shoes. In her supplemental affidavit from June 4, 2012, the appellant stated that she was being represented in the family court proceedings with the assistance of her parents. The appellant claimed that she could not continue to rely on her parents for financial support, but this assertion was made without any detailed or documented evidence to prove that she cannot seek help from her immediate surroundings, including her parents, for the purpose of depositing a security bond in the current appeal. Finally, I reviewed the family court decision, the notice of appeal and its grounds, and came to the conclusion that the appellant\\'s apparent chances of success are not high enough to justify waiving the requirement to deposit a security bond, which would mean there is no reliable and available source for recovering the respondent\\'s expenses if they were awarded in his favor.  To complete the picture and in response to the respondent\\'s arguments, I must note that this case is not suitable for addressing the respondent\\'s claims regarding asset smuggling by the appellant.  In the case at hand, considering all the reasons presented, I do not see fit to fully exempt the appellant from paying a fee and depositing a security. However, given the partial basis provided for their financial situation, I deem it appropriate that the appellant pay a reduced fee of 500 NIS and deposit a moderate sum of 3,500 NIS as security within fourteen days of receiving this decision. If the fee is not paid or the security is not deposited by the specified date, the appeal in question may be dismissed or registered for dismissal, respectively. In accordance with my previous decision on May 24, 2012, the deadline for filing a response to the disqualification appeal as per Rule 471g(d) of the Rules will begin from the date of deposit of the security in this case. There is no order for costs in this matter. Given today, June 17, 2012. Dana Cohen-Lach, Judge (Recorder)', 'legal_refs': \"['1113/97', '3766/12', '471ג(ד)', '8467/06', '5016/00', '471ג(א)', '1788/06']\", 'legal_refs_sparse_vec': '[0 0 0 0 0 0 0 0 0 0 0 0 0 0 0 0 0 0 0 0 0 0 0 0 0 0 1 0 0 0 0 0 0 0 0 0 0\\n 0 0 0 0 0 0 0 0 0 0 0 0 0 0 0 0 0 0 0 0 0 0 0 0 0 0 0 0 0 0 0 0 0 0 0 0 0\\n 0 0 0 0 0 0 0 1 0 0 0 0 0 0 0 0 0 0 0 0 0 0 0 0 0 0 0 0 0 0 0 0 0 0 0 0 0\\n 0 0 0 0 0 0 0 0 0 0 0 0 0 0 0 0 0 0 0 0 0 0 0 0 0 0 0 0 0 0 0 0 0 0 0 0 0\\n 0 0 0 0 0 0 0 0 0 0 0 0 0 0 0 0 0 0 0 0 0 0 0 0 0 0 0 0 0 0 0 0 0 0 0 0 0\\n 0 0 0 0 0 0 0 0 0 0 0 0 0 0 0 0 0 0 0 0 0 0 0 1 0 0 0 0 0 0 0 0 0 0 0 0 0\\n 0 0 0 0 0 0 0 0 0 0 0 0 0 0 0 0 0 0 0 0 0 0 0 0 0 0 0 0 0 0 0 0 0 0 0 0 0\\n 0 0 1 1 0 0 0 0 0 0 0 0 0 0 0 0 0 0 0 0 0 1 0 0 0 0 0 0 0 0 0 0 0 0 0 0 0\\n 0 0 0 0 0 0 0 0 0 0 0 0 0 0 0 0 0 0 0 0 0 0 0 0 0 0 0 0 0 0 0 0 0 0 0 0 0\\n 0 0 0 0 0 0 0 0 0 0 0 0 0 0 0 0 0 0 0 0 0 0 0 0 0 0 0 0 0 0 0 0 0 0 0 0 0\\n 0 0 0 0 0 0 0 0 0 0 0 0 0 0 0 0 0 0 0 0 0 0 0 0 0 0 0 0 0 0 0 0 0 0 0 0 0\\n 0 0 0 0 0 0 0 0 0 0 0 0 0 0 0 0 0 0 0 0 0 0 0 0 1 0 0 0 0 0 0 0 0 0 0 0 0\\n 0 0 0 0 0 0 0 0 0 0 0 0 0 0 0 0 0 0 0 0 0 0 0 0 0 0 0 0 0 0 0 0 0 0 0 0 0\\n 0 0 0 0 0 0 0 0 0 0 0 0 0 0]'}, page_content='1. Case Number: A3766/12\\n\\n2. Case Type: Civil (Family Court Appeal)\\n\\n3. Legal Issues:\\n- Timeliness of appeal filing against judge disqualification request\\n- Application of \"rule of delivery\" vs \"rule of knowledge\" in determining appeal deadlines\\n- Request for fee waiver and security deposit exemption\\n\\n4. Summary of Facts:\\n- Appellant filed appeal against denial of judge disqualification request\\n- Appellant discovered court decision through information center\\n- Appellant filed immediate request to halt proceedings before receiving full decision text\\n- Full decision text was obtained by appellant\\'s emissary later\\n- Appellant claims appeal period should start from receipt of full decision text\\n- Appellant requested fee waiver and security deposit exemption\\n- Appellant is employed with three minor daughters\\n\\n5. Court Decision:\\n- Appeal was filed on time under \"rule of delivery\" principle\\n- Partial reduction of fees granted (500 NIS fee and 3,500 NIS security deposit required)\\n- Appeal may proceed if payments made within fourteen days\\n\\n6. Relevant Laws and Precedents:\\n- RA\\'A 8467/06 Abu Okasa v. Beit HaBarzel Tanos Ltd.\\n- Bash\\'a 1788/06 Klinger v. Zaks\\n- Rule 471g(a) of Rules of Civil Procedure, 5744-1984\\n- Rule 465 of the Rules of Civil Procedure')]"
      ]
     },
     "execution_count": 9,
     "metadata": {},
     "output_type": "execute_result"
    }
   ],
   "source": [
    "docs[:5]"
   ]
  },
  {
   "cell_type": "markdown",
   "metadata": {},
   "source": [
    "# Estimate Number of Tokens\n",
    "\n",
    "Number of tokens estimated by GPT-4o-mini"
   ]
  },
  {
   "cell_type": "code",
   "execution_count": 10,
   "metadata": {},
   "outputs": [],
   "source": [
    "encoding = tiktoken.encoding_for_model(\"gpt-4o-mini\")"
   ]
  },
  {
   "cell_type": "code",
   "execution_count": 11,
   "metadata": {},
   "outputs": [
    {
     "name": "stdout",
     "output_type": "stream",
     "text": [
      "count: 100, min: 52, avg: 197, max: 324\n"
     ]
    }
   ],
   "source": [
    "# create the length function\n",
    "token_counts = []\n",
    "for doc in docs:\n",
    "    token_counts.append(len(encoding.encode(doc.page_content)))\n",
    "\n",
    "tc_summary = {'count': len(token_counts), 'min': min(token_counts), 'avg': int(sum(token_counts) / len(token_counts)), 'max': max(token_counts)}\n",
    "\n",
    "# print token counts\n",
    "print(\", \".join(f\"{k}: {v}\" for k, v in tc_summary.items()))"
   ]
  },
  {
   "cell_type": "markdown",
   "metadata": {},
   "source": [
    "# Create Embeddings and Insert into Vector DB\n",
    "\n",
    "**Reference**: [LangChain | Faiss](https://api.python.langchain.com/en/latest/community/vectorstores/langchain_community.vectorstores.faiss.FAISS.html)"
   ]
  },
  {
   "cell_type": "code",
   "execution_count": 12,
   "metadata": {},
   "outputs": [],
   "source": [
    "emb_model = 'nomic-embed-text:latest'"
   ]
  },
  {
   "cell_type": "markdown",
   "metadata": {},
   "source": [
    "For cosine similarity we are going to use normalized vectors \\\n",
    "Inherit and extend OllamaEmbeddings to verify if embeddings vector is norm 1, if not normalize it:\n",
    "$$\\hat{u} = \\frac{u}{\\Vert u \\Vert}$$\n",
    "\n",
    "Thanks to: [Github ollama issue #4128](https://github.com/ollama/ollama/issues/4128)"
   ]
  },
  {
   "cell_type": "code",
   "execution_count": 13,
   "metadata": {},
   "outputs": [],
   "source": [
    "# create embedding function\n",
    "class OllamaEmbeddingsNorm(OllamaEmbeddings):\n",
    "    def _process_emb_response(self, input: str) -> list[float]:\n",
    "        emb = super()._process_emb_response(input)\n",
    "        norm_1 = np.allclose(np.linalg.norm(emb), 1)\n",
    "        if norm_1:\n",
    "            return emb\n",
    "        else:\n",
    "            return (np.array(emb) / np.linalg.norm(emb)).tolist()"
   ]
  },
  {
   "cell_type": "code",
   "execution_count": 14,
   "metadata": {},
   "outputs": [],
   "source": [
    "ollama_emb = OllamaEmbeddingsNorm(model=emb_model, base_url=base_url)"
   ]
  },
  {
   "cell_type": "markdown",
   "metadata": {},
   "source": [
    "Create dummy text and embed it, check the vector size"
   ]
  },
  {
   "cell_type": "code",
   "execution_count": 15,
   "metadata": {},
   "outputs": [
    {
     "name": "stdout",
     "output_type": "stream",
     "text": [
      "Model 'nomic-embed-text:latest' vector length: 768\n"
     ]
    }
   ],
   "source": [
    "vector = ollama_emb.embed_query(\"hello world\")\n",
    "vector_len = len(vector)\n",
    "print(f\"Model '{ollama_emb.model}' vector length: {vector_len}\")"
   ]
  },
  {
   "cell_type": "markdown",
   "metadata": {},
   "source": [
    "Create a FAISS index with dimension of vector length (retrieved above) using unit vector with inner product for cosine similarity search <br/>\n",
    "Reference: [Langchain Faiss Cosine Similarity](https://www.restack.io/docs/langchain-knowledge-faiss-cosine-similarity-cat-ai)"
   ]
  },
  {
   "cell_type": "code",
   "execution_count": 16,
   "metadata": {},
   "outputs": [
    {
     "name": "stdout",
     "output_type": "stream",
     "text": [
      "Total number of vectors stored in FAISS index: 0, vector dimension: 768\n"
     ]
    }
   ],
   "source": [
    "index = faiss.IndexFlatIP(vector_len)\n",
    "print(f\"Total number of vectors stored in FAISS index: {index.ntotal}, vector dimension: {index.d}\")"
   ]
  },
  {
   "cell_type": "markdown",
   "metadata": {},
   "source": [
    "Create FAISS vector store with embeddings:\n",
    "- embedding_function - LLM embeddings function. It will be used to embed the documents to vector\n",
    "- index - FAIS index (in our case based on the inner product for cosine similarity)\n",
    "- docstore - store documents in RAM\n",
    "- index_to_doctstore_id - holds the mapping of vectors inside the FAISS index to the relevant document id in the document store.\n",
    "  initialized to empty dict, will be filled during insertyion of vectors into the DB."
   ]
  },
  {
   "cell_type": "code",
   "execution_count": 17,
   "metadata": {},
   "outputs": [],
   "source": [
    "vector_store = FAISS(\n",
    "    embedding_function=ollama_emb,\n",
    "    index=index,\n",
    "    docstore=InMemoryDocstore(),\n",
    "    index_to_docstore_id={}\n",
    ")"
   ]
  },
  {
   "cell_type": "code",
   "execution_count": 18,
   "metadata": {},
   "outputs": [
    {
     "name": "stdout",
     "output_type": "stream",
     "text": [
      "Total number of vectors stored in FAISS DB: 0, vector dimension: 768\n"
     ]
    }
   ],
   "source": [
    "print(f\"Total number of vectors stored in FAISS DB: {vector_store.index.ntotal}, vector dimension: {vector_store.index.d}\")"
   ]
  },
  {
   "cell_type": "code",
   "execution_count": 19,
   "metadata": {},
   "outputs": [],
   "source": [
    "ids = vector_store.add_documents(documents=docs)"
   ]
  },
  {
   "cell_type": "code",
   "execution_count": 20,
   "metadata": {},
   "outputs": [
    {
     "name": "stdout",
     "output_type": "stream",
     "text": [
      "Total number of vectors stored in FAISS DB: 100, vector dimension: 768\n"
     ]
    }
   ],
   "source": [
    "print(f\"Total number of vectors stored in FAISS DB: {vector_store.index.ntotal}, vector dimension: {vector_store.index.d}\")"
   ]
  },
  {
   "cell_type": "markdown",
   "metadata": {},
   "source": [
    "# Save Vector Store"
   ]
  },
  {
   "cell_type": "code",
   "execution_count": 21,
   "metadata": {},
   "outputs": [],
   "source": [
    "db_name = \"db/vectors/db_legal_cases_summary_100\"\n",
    "vector_store.save_local(db_name)"
   ]
  }
 ],
 "metadata": {
  "kernelspec": {
   "display_name": "nlp_3_12_8",
   "language": "python",
   "name": "python3"
  },
  "language_info": {
   "codemirror_mode": {
    "name": "ipython",
    "version": 3
   },
   "file_extension": ".py",
   "mimetype": "text/x-python",
   "name": "python",
   "nbconvert_exporter": "python",
   "pygments_lexer": "ipython3",
   "version": "3.12.8"
  }
 },
 "nbformat": 4,
 "nbformat_minor": 2
}
